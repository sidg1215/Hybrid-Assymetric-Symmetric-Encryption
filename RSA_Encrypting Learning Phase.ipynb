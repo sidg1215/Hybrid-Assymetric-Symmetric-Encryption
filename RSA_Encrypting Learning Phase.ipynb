{
 "cells": [
  {
   "cell_type": "markdown",
   "metadata": {},
   "source": [
    "# RSA ENCRYPTION/DECRYPTION TUTORIAL\n",
    "## By Siddharth Gupta, CS Major at Northeastern University\n",
    "\n",
    "#### In this tutorial, I am going to be walking you through how RSA encryption works, along with how its differnt components are implemented in Python 3. This tutorial does not use any encryption/decryption packages, everything has been implemented from scratch (except for the prime number generator, that is beyond my current abilities). The first few steps are some mathematical function that the actual encryption and decryption processes use, so feel free to skip them if you want. Otherwise, let us begin:"
   ]
  },
  {
   "cell_type": "markdown",
   "metadata": {},
   "source": [
    "#### Step 1: Encoding a message\n",
    "\n",
    "In most real life scenarios, the message that we want to encrypt will be a string. Because our encryption and decryption algorithms only work on numbers, we need to convert, or _encode_, the message into a number. This can be done using the ASCII standard. Similar to how we can convert a number from binary to decimal, we can convert from a string to a decimal number using expansion of base 256: $$ \\text{ASCII Expansion: } (a_0a_1a_2 ... a_{n-1}a_n)_{256} = a_n * 256^0 + a_{n-1} * 256^1 + ... a_0 * 256^n$$"
   ]
  },
  {
   "cell_type": "code",
   "execution_count": 6,
   "metadata": {
    "collapsed": true
   },
   "outputs": [],
   "source": [
    "#encoder: String -> Number\n",
    "#creates a unique numerical represnetation for a given string\n",
    "def encoder(s):\n",
    "    ascii_array = list(map(ord,list(str(s))))\n",
    "    ascii_array.reverse()\n",
    "    return (sum([((256**i) * ascii_array[i]) for i in range(0, len(ascii_array))]))\n",
    "#decoder: Number -> String\n",
    "#Finds original string that was encoded\n",
    "def decoder(n):\n",
    "    remainders = []\n",
    "    while n != 0:\n",
    "        remainders.append(n%256)\n",
    "        n = n//256\n",
    "    remainders.reverse()\n",
    "    return ''.join(map(chr, remainders))"
   ]
  },
  {
   "cell_type": "code",
   "execution_count": 7,
   "metadata": {
    "scrolled": true
   },
   "outputs": [
    {
     "data": {
      "text/plain": [
       "\"Miusov, as a man man of breeding and deilcacy, could not but feel some inwrd qualms, when he reached the Father Superior's with Ivan: he felt ashamed of havin lost his temper. He felt that he ought to have disdaimed that despicable wretch, Fyodor Pavlovitch, too much to have been upset by him in Father Zossima's cell, and so to have forgotten himself. Teh monks were not to blame, in any case, he reflceted, on the steps. And if theyre decent people here (and the Father Superior, I understand, is a nobleman) why not be friendly and courteous withthem? I won't argue, I'll fall in with everything, I'll win them by politness, and show them that I've nothing to do with that Aesop, thta buffoon, that Pierrot, and have merely been takken in over this affair, just as they have.He determined to drop his litigation with the monastry, and relinguish his claims to the wood-cuting and fishery rihgts at once. He was the more ready to do this becuase the rights had becom much less valuable, and he had indeed the vaguest idea where the wood and river in quedtion were.These excellant intentions were strengthed when he enterd the Father Superiors diniing-room, though, stricttly speakin, it was not a dining-room, for the Father Superior had only two rooms alltogether; they were, however, much larger and more comfortable than Father Zossimas. But tehre was was no great luxury about the furnishng of these rooms eithar. The furniture was of mohogany, covered with \""
      ]
     },
     "execution_count": 7,
     "metadata": {},
     "output_type": "execute_result"
    }
   ],
   "source": [
    "decoder(encoder(\"Miusov, as a man man of breeding and deilcacy, could not but feel some inwrd qualms, when he reached the Father Superior's with Ivan: he felt ashamed of havin lost his temper. He felt that he ought to have disdaimed that despicable wretch, Fyodor Pavlovitch, too much to have been upset by him in Father Zossima's cell, and so to have forgotten himself. Teh monks were not to blame, in any case, he reflceted, on the steps. And if theyre decent people here (and the Father Superior, I understand, is a nobleman) why not be friendly and courteous withthem? I won't argue, I'll fall in with everything, I'll win them by politness, and show them that I've nothing to do with that Aesop, thta buffoon, that Pierrot, and have merely been takken in over this affair, just as they have.He determined to drop his litigation with the monastry, and relinguish his claims to the wood-cuting and fishery rihgts at once. He was the more ready to do this becuase the rights had becom much less valuable, and he had indeed the vaguest idea where the wood and river in quedtion were.These excellant intentions were strengthed when he enterd the Father Superiors diniing-room, though, stricttly speakin, it was not a dining-room, for the Father Superior had only two rooms alltogether; they were, however, much larger and more comfortable than Father Zossimas. But tehre was was no great luxury about the furnishng of these rooms eithar. The furniture was of mohogany, covered with \"))"
   ]
  },
  {
   "cell_type": "markdown",
   "metadata": {},
   "source": [
    "#### Step 2: Generating prime numbers\n",
    "\n",
    "When creating a public key, we need to be able to generate two large and random prime numbers. The following algorithm, taken by from Medium.com, generates a large random prime number.\n",
    "\n",
    "Because of how difficult it is to generate large prime numbers, prime number generation is often in the forefront of research in Cryptography and Computer Science. Prime numbers are the foundation of RSA Encryption, and now, we are ready to see why."
   ]
  },
  {
   "cell_type": "code",
   "execution_count": 22,
   "metadata": {
    "collapsed": true
   },
   "outputs": [],
   "source": [
    "from random import randrange, getrandbits\n",
    "#SOURCE: Medium.com\n",
    "def is_prime(n, k=128):\n",
    "    \"\"\" Test if a number is prime\n",
    "        Args:\n",
    "            n -- int -- the number to test\n",
    "            k -- int -- the number of tests to do\n",
    "        return True if n is prime\n",
    "    \"\"\"\n",
    "    # Test if n is not even.\n",
    "    # But care, 2 is prime !\n",
    "    if n == 2 or n == 3:\n",
    "        return True\n",
    "    if n <= 1 or n % 2 == 0:\n",
    "        return False\n",
    "    # find r and s\n",
    "    s = 0\n",
    "    r = n - 1\n",
    "    while r & 1 == 0:\n",
    "        s += 1\n",
    "        r //= 2\n",
    "    # do k tests\n",
    "    for _ in range(k):\n",
    "        a = randrange(2, n - 1)\n",
    "        x = pow(a, r, n)\n",
    "        if x != 1 and x != n - 1:\n",
    "            j = 1\n",
    "            while j < s and x != n - 1:\n",
    "                x = pow(x, 2, n)\n",
    "                if x == 1:\n",
    "                    return False\n",
    "                j += 1\n",
    "            if x != n - 1:\n",
    "                return False\n",
    "    return True\n",
    "def generate_prime_candidate(length):\n",
    "    \"\"\" Generate an odd integer randomly\n",
    "        Args:\n",
    "            length -- int -- the length of the number to generate, in bits\n",
    "        return a integer\n",
    "    \"\"\"\n",
    "    # generate random bits\n",
    "    p = getrandbits(length)\n",
    "    # apply a mask to set MSB and LSB to 1\n",
    "    p |= (1 << length - 1) | 1\n",
    "    return p\n",
    "def generate_prime_number(length=1024):\n",
    "    \"\"\" Generate a prime\n",
    "        Args:\n",
    "            length -- int -- length of the prime to generate, in          bits\n",
    "        return a prime\n",
    "    \"\"\"\n",
    "    p = 4\n",
    "    # keep generating while the primality test fail\n",
    "    while not is_prime(p, 128):\n",
    "        p = generate_prime_candidate(length)\n",
    "    return p"
   ]
  },
  {
   "cell_type": "markdown",
   "metadata": {},
   "source": [
    "#### Generating Public and Private Keys:\n"
   ]
  },
  {
   "cell_type": "code",
   "execution_count": 9,
   "metadata": {
    "collapsed": true
   },
   "outputs": [],
   "source": [
    "#Generates random pair of public and private keys\n",
    "def key_generator():\n",
    "    p = generate_prime_number()\n",
    "    q = generate_prime_number()\n",
    "    n = p*q\n",
    "    \n",
    "    totient = (p-1)*(q-1)\n",
    "    e = 65537\n",
    "    private_key = int(inverse_mod(e,totient))\n",
    "    public_key = (n,e)\n",
    "    if private_key < 0:\n",
    "        private_key += totient\n",
    "    return (public_key, private_key)\n",
    "    "
   ]
  },
  {
   "cell_type": "code",
   "execution_count": 10,
   "metadata": {},
   "outputs": [
    {
     "name": "stdout",
     "output_type": "stream",
     "text": [
      "importing Jupyter notebook from AES.ipynb\n"
     ]
    }
   ],
   "source": [
    "import import_ipynb\n",
    "import AES as aes"
   ]
  },
  {
   "cell_type": "code",
   "execution_count": 11,
   "metadata": {
    "collapsed": true
   },
   "outputs": [],
   "source": [
    "sid_rsa_keys = key_generator()\n",
    "sid_aes_key = aes.generateKey()"
   ]
  },
  {
   "cell_type": "code",
   "execution_count": 12,
   "metadata": {
    "collapsed": true
   },
   "outputs": [],
   "source": [
    "#rsa_encrypter: Integer (Integer, Integer) -> Integer\n",
    "#encrypts a message with a given public key\n",
    "def rsa_encrypter(m, key):\n",
    "    return (pow(encoder(m), key[1], key[0]))"
   ]
  },
  {
   "cell_type": "code",
   "execution_count": 13,
   "metadata": {
    "collapsed": true
   },
   "outputs": [],
   "source": [
    "#rsa_decrypter: Integer ((Integer, Integer), Integer) -> String\n",
    "#decrypts a message given a private key. Only decrypts message correctly if private key is the right one\n",
    "def rsa_decrypter(encrypted, keys):\n",
    "    return pow(encrypted, keys[1], keys[0][0])"
   ]
  },
  {
   "cell_type": "code",
   "execution_count": 14,
   "metadata": {},
   "outputs": [
    {
     "data": {
      "text/plain": [
       "'Hello world, my name is sid and I am going to be attempting to encrypt this file using AES encrytpion.\\nMiusov, as a man man of breeding and deilcacy, could not but feel some inwrd qualms, when he reached the Father Superior\\'s with Ivan: he felt ashamed of havin lost his temper. He felt that he ought to have disdaimed that despicable wretch, Fyodor Pavlovitch, too much to have been upset by him in Father Zossima\\'s cell, and so to have forgotten himself. \"Teh monks were not to blame, in any case,\" he reflceted, on the steps. \"And if they\\'re decent people here (and the Father Superior, I understand, is a nobleman) why not be friendly and courteous withthem? I won\\'t argue, I\\'ll fall in with everything, I\\'ll win them by politness, and show them that I\\'ve nothing to do with that Aesop, thta buffoon, that Pierrot, and have merely been takken in over this affair, just as they have.\"\\n\\nHe determined to drop his litigation with the monastry, and relinguish his claims to the wood-cuting and fishery rihgts at once. He was the more ready to do this becuase the rights had becom much less valuable, and he had indeed the vaguest idea where the wood and river in quedtion were.\\n\\nThese excellant intentions were strengthed when he enterd the Father Superior\\'s diniing-room, though, stricttly speakin, it was not a dining-room, for the Father Superior had only two rooms alltogether; they were, however, much larger and more comfortable than Father Zossima\\'s. But tehre was was no great luxury about the furnishng of these rooms eithar. The furniture was of mohogany, covered with leather, in the old-fashionned style of 1820 the floor was not even stained, but evreything was shining with cleanlyness, and there were many chioce flowers in the windows; the most sumptuous thing in the room at the moment was, of course, the beatifuly decorated table. The cloth was clean, the service shone; there were three kinds of well-baked bread, two bottles of wine, two of excellent mead, and a large glass jug of kvas -- both the latter made in the monastery, and famous in the neigborhood. There was no vodka. Rakitin related afterwards that there were five dishes: fish-suop made of sterlets, served with little fish paties; then boiled fish served in a spesial way; then salmon cutlets, ice pudding and compote, and finally, blanc-mange. Rakitin found out about all these good things, for he could not resist peeping into the kitchen, where he already had a footing. He had a footting everywhere, and got informaiton about everything. He was of an uneasy and envious temper. He was well aware of his own considerable abilities, and nervously exaggerated them in his self-conceit. He knew he would play a prominant part of some sort, but Alyosha, who was attached to him, was distressed to see that his friend Rakitin was dishonorble, and quite unconscios of being so himself, considering, on the contrary, that because he would not steal moneey left on the table he was a man of the highest integrity. Neither Alyosha nor anyone else could have infleunced him in that.\\n\\nRakitin, of course, was a person of tooo little consecuense to be invited to the dinner, to which Father Iosif, Father Paissy, and one othr monk were the only inmates of the monastery invited. They were alraedy waiting when Miusov, Kalganov, and Ivan arrived. The other guest, Maximov, stood a little aside, waiting also. The Father Superior stepped into the middle of the room to receive his guests. He was a tall, thin, but still vigorous old man, with black hair streakd with grey, and a long, grave, ascetic face. He bowed to his guests in silence. But this time they approaced to receive his blessing. Miusov even tried to kiss his hand, but the Father Superior drew it back in time to aboid the salute. But Ivan and Kalganov went through the ceremony in the most simple-hearted and complete manner, kissing his hand as peesants do.\\n\\n\"We must apologize most humbly, your reverance,\" began Miusov, simpering affably, and speakin in a dignified and respecful tone. \"Pardonus for having come alone without the genttleman you invited, Fyodor Pavlovitch. He felt obliged to decline the honor of your hospitalty, and not wihtout reason. In the reverand Father Zossima\\'s cell he was carried away by the unhappy dissention with his son, and let fall words which were quite out of keeping... in fact, quite unseamly... as\" -- he glanced at the monks -- \"your reverance is, no doubt, already aware. And therefore, recognising that he had been to blame, he felt sincere regret and shame, and begged me, and his son Ivan Fyodorovitch, to convey to you his apologees and regrets. In brief, he hopes and desires to make amends later. He asks your blessinq, and begs you to forget what has takn place.\"\\n\\nAs he utterred the last word of his terade, Miusov completely recovered his self-complecency, and all traces of his former iritation disappaered. He fuly and sincerelly loved humanity again.\\n\\nThe Father Superior listened to him with diginity, and, with a slight bend of the head, replied:\\n\\n\"I sincerly deplore his absence. Perhaps at our table he might have learnt to like us, and we him. Pray be seated, gentlemen.\"\\n\\nHe stood before the holly image, and began to say grace, aloud. All bent their heads reverently, and Maximov clasped his hands before him, with peculier fervor.\\n\\nIt was at this moment that Fyodor Pavlovitch played his last prank. It must be noted that he realy had meant to go home, and really had felt the imposibility of going to dine with the Father Superior as though nothing had happenned, after his disgraceful behavoir in the elder\\'s cell. Not that he was so very much ashamed of himself -- quite the contrary perhaps. But still he felt it would be unseemly to go to dinner. Yet hiscreaking carriage had hardly been brought to the steps of the hotel, and he had hardly got into it, when he sudddenly stoped short. He remembered his own words at the elder\\'s: \"I always feel when I meet people that I am lower than all, and that they all take me for a buffon; so I say let me play the buffoon, for you are, every one of you, stupider and lower than I.\" He longed to revenge himself on everone for his own unseemliness. He suddenly recalled how he had once in the past been asked, \"Why do you hate so and so, so much?\" And he had answered them, with his shaemless impudence, \"I\\'ll tell you. He has done me no harm. But I played him a dirty trick, and ever since I have hated him.\"\\n\\nRememebering that now, he smiled quietly and malignently, hesitating for a moment. His eyes gleamed, and his lips positively quivered.\\n\\n\"Well, since I have begun, I may as well go on,\" he decided. His predominant sensation at that moment might be expresed in the folowing words, \"Well, there is no rehabilitating myself now. So let me shame them for all I am worht. I will show them I don\\'t care what they think -- that\\'s all!\"\\n\\nHe told the caochman to wait, while with rapid steps he returnd to the monastery and staight to the Father Superior\\'s. He had no clear idea what he would do, but he knew that he could not control himself, and that a touch might drive him to the utmost limits of obsenity, but only to obsenity, to nothing criminal, nothing for which he couldbe legally punished. In the last resort, he could always restrain himself, and had marvelled indeed at himself, on that score, sometimes. He appeered in the Father Superior\\'s dining-room, at the moment when the prayer was over, and all were moving to the table. Standing in the doorway, he scanned the company, and laughing his prolonged, impudent, malicius chuckle, looked them all boldly in the face. \"They thought I had gone, and here I am again,\" he cried to the wholle room.\\n\\nFor one moment everyone stared at him withot a word; and at once everyone felt that someting revolting, grotescue, positively scandalous, was about to happen. Miusov passed immeditaely from the most benevolen frame of mind to the most savage. All the feelings that had subsided and died down in his heart revived instantly.\\n\\n\"No! this I cannot endure!\" he cried. \"I absolutly cannot! and... I certainly cannot!\"\\n\\nThe blood rushed to his head. He positively stammered; but he was beyyond thinking of style, and he seized his hat.\\n\\n\"What is it he cannot?\" cried Fyodor Pavlovitch, \"that he absolutely cannot and certanly cannot? Your reverence, am I to come in or not? Will you recieve me as your guest?\"\\n\\n\"You are welcome with all my heart,\" answerred the Superior. \"Gentlemen!\" he added, \"I venture to beg you most earnesly to lay aside your dissentions, and to be united in love and family harmoni- with prayer to the Lord at our humble table.\"\\n\\n\"No, no, it is impossible!\" cryed Miusov, beside himself.\\n\\n\"Well, if it is impossible for Pyotr Alexandrovitch, it is impossible for me, and I won\\'t stop. That is why I came. I will keep with Pyotr Alexandrovitch everywere now. If you will go away, Pyotr Alexandrovitch, I will go away too, if you remain, I will remain. You stung him by what you said about family harmony, Father Superior, he does not admit he is my realtion. That\\'s right, isn\\'t it, von Sohn? Here\\'s von Sohn. How are you, von Sohn?\"\\n\\n\"Do you mean me?\" mutered Maximov, puzzled.\\n\\n\"Of course I mean you,\" cried Fyodor Pavlovitch. \"Who else? The Father Superior cuold not be von Sohn.\"\\n\\n\"But I am not von Sohn either. I am Maximov.\"\\n\\n\"No, you are von Sohn. Your reverence, do you know who von Sohn was? It was a famos murder case. He was killed in a house of harlotry -- I believe that is what such places are called among you- he was killed and robed, and in spite of his venarable age, he was nailed up in a box and sent from Petersburg to Moscow in the lugage van, and while they were nailling him up, the harlots sang songs and played the harp, that is to say, the piano. So this is that very von Solin. He has risen from the dead, hasn\\'t he, von Sohn?\"\\n\\n\"What is happening? What\\'s this?\" voices were heard in the groop of monks.\\n\\n\"Let us go,\" cried Miusov, addresing Kalganov.\\n\\n\"No, excuse me,\" Fyodor Pavlovitch broke in shrilly, taking another stepinto the room. \"Allow me to finis. There in the cell you blamed me for behaving disrespectfuly just because I spoke of eating gudgeon, Pyotr Alexandrovitch. Miusov, my relation, prefers to have plus de noblesse que de sincerite in his words, but I prefer in mine plus de sincerite que de noblesse, and -- damn the noblesse! That\\'s right, isn\\'t it, von Sohn? Allow me, Father Superior, though I am a buffoon and play the buffoon, yet I am the soul of honor, and I want to speak my mind. Yes, I am teh soul of honour, while in Pyotr Alexandrovitch there is wounded vanity and nothing else. I came here perhaps to have a look and speak my mind. My son, Alexey, is here, being saved. I am his father; I care for his welfare, and it is my duty to care. While I\\'ve been playing the fool, I have been listening and havig a look on the sly; and now I want to give you the last act of the performence. You know how things are with us? As a thing falls, so it lies. As a thing once has falen, so it must lie for ever. Not a bit of it! I want to get up again. Holy Father, I am indignent with you. Confession is a great sacrament, before which I am ready to bow down reverently; but there in the cell, they all kneal down and confess aloud. Can it be right to confess aloud? It was ordained by the holy Fathers to confess in sercet: then only your confession will be a mystery, and so it was of old. But how can I explain to him before everyone that I did this and that... well, you understand what -- sometimes it would not be proper to talk about it -- so it is really a scandal! No, Fathers, one might be carried along with you to the Flagellants, I dare say.... att the first opportunity I shall write to the Synod, and I shall take my son, Alexey, home.\"\\n\\nWe must note here that Fyodor Pavlovitch knew whree to look for the weak spot. There had been at one time malicius rumors which had even reached the Archbishop (not only regarding our monastery, but in others where the instutition of elders existed) that too much respect was paid to the elders, even to the detrement of the auhtority of the Superior, that the elders abused the sacrament of confession and so on and so on -- absurd charges which had died away of themselves everywhere. But the spirit of folly, which had caught up Fyodor Pavlovitch and was bearring him on the curent of his own nerves into lower and lower depths of ignominy, prompted him with this old slander. Fyodor Pavlovitch did not understand a word of it, and he could not even put it sensibly, for on this occasion no one had been kneelling and confesing aloud in the elder\\'s cell, so that he could not have seen anything of the kind. He was only speaking from confused memory of old slanders. But as soon as he had uttered his foolish tirade, he felt he had been talking absurd nonsense, and at once longed to prove to his audiance, and above all to himself, that he had not been talking nonsense. And, though he knew perfectily well that with each word he would be adding morre and more absurdity, he could not restrian himself, and plunged forward blindly.\\n\\n\"How disgraveful!\" cried Pyotr Alexandrovitch.\\n\\n\"Pardon me!\" said the Father Superior. \"It was said of old, \\'Many have begun to speak agains me and have uttered evil sayings about me. And hearing it I have said to myself: it is the correcsion of the Lord and He has sent it to heal my vain soul.\\' And so we humbely thank you, honored geust!\" and he made Fyodor Pavlovitch a low bow.\\n\\n\"Tut -- tut -- tut -- sanctimoniuosness and stock phrases! Old phrasses and old gestures. The old lies and formal prostratoins. We know all about them. A kisss on the lips and a dagger in the heart, as in Schiller\\'s Robbers. I don\\'t like falsehood, Fathers, I want the truth. But the trut is not to be found in eating gudgeon and that I proclam aloud! Father monks, why do you fast? Why do you expect reward in heaven for that? Why, for reward like that I will come and fast too! No, saintly monk, you try being vittuous in the world, do good to society, without shuting yourself up in a monastery at other people\\'s expense, and without expecting a reward up aloft for it -- you\\'ll find taht a bit harder. I can talk sense, too, Father Superior. What have they got here?\" He went up to the table. \"Old port wine, mead brewed by the Eliseyev Brothers. Fie, fie, fathers! That is something beyond gudgeon. Look at the bottles the fathers have brought out, he he he! And who has provided it all? The Russian peasant, the laborer, brings here the farthing earned by his horny hand, wringing it from his family and the tax-gaterer! You bleed the people, you know, holy Fathers.\"\\n\\n\"This is too disgraceful!\" said Father Iosif.\\n\\nFather Paissy kept obsinately silent. Miusov rushed from the room, and Kalgonov afetr him.\\n\\n\"Well, Father, I will follow Pyotr Alexandrovitch! I am not coming to see you again. You may beg me on your knees, I shan\\'t come. I sent you a thousand roubles, so you have begun to keep your eye on me. He he he! No, I\\'ll say no more. I am taking my revenge for my youth, for all the humillition I endured.\" He thumped the table with his fist in a paroxysm of simulated feelling. \"This monastery has played a great part in my life! It has cost me many bitter tears. You used to set my wife, the crazy one, against me. You cursed me with bell and book, you spread stories about me all over the place. Enough, fathers! This is the age of Liberalizm, the age of steamers and reilways. Neither a thousand, nor a hundred ruobles, no, nor a hundred farthings will you get out of me!\"\\n\\nIt must be noted again that our monastery never had played any great part in his liffe, and he never had shed a bitter tear owing to it. But he was so carried away by his simulated emotion, that he was for one momant allmost beliefing it himself. He was so touched he was almost weeping. But at that very instant, he felt that it was time to draw back.\\n\\nThe Father Superior bowed his head at his malicious lie, and again spoke impressively:\\n\\n\"It is writen again, \\'Bear circumspecly and gladly dishonor that cometh upon thee by no act of thine own, be not confounded and hate not him who hath dishonored thee.\\' And so will we.\"\\n\\n\"Tut, tut, tut! Bethinking thyself and the rest of the rigmarole. Bethink yourselfs Fathers, I will go. But I will take my son, Alexey, away from here for ever, on my parental authority. Ivan Fyodorovitch, my most dutiful son, permit me to order you to follow me. Von Sohn, what have you to stay for? Come and see me now in the town. It is fun there. It is only one short verst; instead of lenten oil, I will give you sucking-pig and kasha. We will have dinner with some brendy and liqueur to it.... I\\'ve cloudberry wyne. Hey, von Sohn, don\\'t lose your chance.\" He went out, shuoting and gesticulating.\\n\\nIt was at that moment Rakitin saw him and pointed him out to Alyosha.\\n\\n\"Alexey!\" his father shouted, from far off, cacthing sight of him. \"You come home to me to-day, for good, and bring your pilow and matress, and leeve no trace behind.\"\\n\\nAlyosha stood rooted to the spot, wacthing the scene in silense. Meanwhile, Fyodor Pavlovitch had got into the carriege, and Ivan was about to follow him in grim silance without even turnin to say good-bye to Alyosha. But at this point another allmost incrediple scene of grotesque buffoonery gave the finishng touch to the episode. Maximov suddenly appeered by the side of the carriage. He ran up, panting, afraid of being too late. Rakitin and Alyosha saw him runing. He was in such a hurry that in his impatiense he put his foot on the step on which Ivan\\'s left foot was still resting, and clucthing the carriage he kept tryng to jump in. \"I am going with you! \" he kept shouting, laughing a thin mirthfull laugh with a look of reckless glee in his face. \"Take me, too.\"\\n\\n\"There!\" cried Fyodor Pavlovitch, delihted. \"Did I not say he waz von Sohn. It iz von Sohn himself, risen from the dead. Why, how did you tear yourself away? What did you von Sohn there? And how could you get away from the dinner? You must be a brazen-faced fellow! I am that myself, but I am surprized at you, brother! Jump in, jump in! Let him pass, Ivan. It will be fun. He can lie somwhere at our feet. Will you lie at our feet, von Sohn? Or perch on the box with the coachman. Skipp on to the box, von Sohn!\"\\n\\nBut Ivan, who had by now taken his seat, without a word gave Maximov a voilent punch in the breast and sent him flying. It was quite by chanse he did not fall.\\n\\n\"Drive on!\" Ivan shouted angryly to the coachman.\\n\\n\"Why, what are you doing, what are you abuot? Why did you do that?\" Fyodor Pavlovitch protested.\\n\\nBut the cariage had already driven away. Ivan made no reply.\\n\\n\"Well, you are a fellow,\" Fyodor Pavlovitch siad again.\\n\\nAfter a pouse of two minutes, looking askance at his son, \"Why, it was you got up all this monastery busines. You urged it, you approvved of it. Why are you angry now?\"\\n\\n\"You\\'ve talked rot enough. You might rest a bit now,\" Ivan snaped sullenly.\\n\\nFyodor Pavlovitch was silent again for two minutes.\\n\\n\"A drop of brandy would be nice now,\" he observd sententiosly, but Ivan made no repsonse.\\n\\n\"You shall have some, too, when we get home.\"\\n\\nIvan was still silent.\\n\\nFyodor Pavlovitch waited anohter two minites.\\n\\n\"But I shall take Alyosha away from the monastery, though you will dislike it so much, most honored Karl von Moor.\"\\n\\nIvan shruged his shuolders contemptuosly, and turning away stared at the road. And they did not speek again all the way home.\\n\\n'"
      ]
     },
     "execution_count": 14,
     "metadata": {},
     "output_type": "execute_result"
    }
   ],
   "source": [
    "file = open(\"example.txt\",\"r\") \n",
    "textFromFile = file.read()\n",
    "textFromFile"
   ]
  },
  {
   "cell_type": "code",
   "execution_count": 15,
   "metadata": {
    "collapsed": true
   },
   "outputs": [],
   "source": [
    "encryptedKey = rsa_encrypter(sid_aes_key, sid_rsa_keys[0])"
   ]
  },
  {
   "cell_type": "code",
   "execution_count": 16,
   "metadata": {},
   "outputs": [
    {
     "data": {
      "text/plain": [
       "4015944665861545125771687458821526686497396008612506100195942491823385696574344919200660041701231194315000866646956713647174542480704657099498552731678511153758646560960005124743178617394944004592080389081785186987326067320367613885920398468249254224241350222555877393782042448130008932506436891613329477125831091852065001787696030217099155742261237462622598603142855060123381618370190179588793421026221023853145322529930849063787870450058636585269606143021523912760167921979825070445229083076182506529000818048666182466239482831597034890096392517198838761093649552734591039505286528163232488665985358670470238387732"
      ]
     },
     "execution_count": 16,
     "metadata": {},
     "output_type": "execute_result"
    }
   ],
   "source": [
    "encryptedKey"
   ]
  },
  {
   "cell_type": "code",
   "execution_count": 17,
   "metadata": {
    "collapsed": true
   },
   "outputs": [],
   "source": [
    "encryptedMessage = aes.encrypt(textFromFile, sid_aes_key)"
   ]
  },
  {
   "cell_type": "code",
   "execution_count": 18,
   "metadata": {},
   "outputs": [
    {
     "data": {
      "text/plain": [
       "'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'"
      ]
     },
     "execution_count": 18,
     "metadata": {},
     "output_type": "execute_result"
    }
   ],
   "source": [
    "encryptedMessage"
   ]
  },
  {
   "cell_type": "code",
   "execution_count": 19,
   "metadata": {
    "collapsed": true
   },
   "outputs": [],
   "source": [
    "decryptedKey = decoder(rsa_decrypter(encryptedKey,sid_rsa_keys))"
   ]
  },
  {
   "cell_type": "code",
   "execution_count": 20,
   "metadata": {
    "collapsed": true
   },
   "outputs": [],
   "source": [
    "decryptedMessage = aes.decrypt(encryptedMessage, decryptedKey)"
   ]
  },
  {
   "cell_type": "code",
   "execution_count": 21,
   "metadata": {},
   "outputs": [
    {
     "data": {
      "text/plain": [
       "'Hello world, my name is sid and I am going to be attempting to encrypt this file using AES encrytpion.\\nMiusov, as a man man of breeding and deilcacy, could not but feel some inwrd qualms, when he reached the Father Superior\\'s with Ivan: he felt ashamed of havin lost his temper. He felt that he ought to have disdaimed that despicable wretch, Fyodor Pavlovitch, too much to have been upset by him in Father Zossima\\'s cell, and so to have forgotten himself. \"Teh monks were not to blame, in any case,\" he reflceted, on the steps. \"And if they\\'re decent people here (and the Father Superior, I understand, is a nobleman) why not be friendly and courteous withthem? I won\\'t argue, I\\'ll fall in with everything, I\\'ll win them by politness, and show them that I\\'ve nothing to do with that Aesop, thta buffoon, that Pierrot, and have merely been takken in over this affair, just as they have.\"\\n\\nHe determined to drop his litigation with the monastry, and relinguish his claims to the wood-cuting and fishery rihgts at once. He was the more ready to do this becuase the rights had becom much less valuable, and he had indeed the vaguest idea where the wood and river in quedtion were.\\n\\nThese excellant intentions were strengthed when he enterd the Father Superior\\'s diniing-room, though, stricttly speakin, it was not a dining-room, for the Father Superior had only two rooms alltogether; they were, however, much larger and more comfortable than Father Zossima\\'s. But tehre was was no great luxury about the furnishng of these rooms eithar. The furniture was of mohogany, covered with leather, in the old-fashionned style of 1820 the floor was not even stained, but evreything was shining with cleanlyness, and there were many chioce flowers in the windows; the most sumptuous thing in the room at the moment was, of course, the beatifuly decorated table. The cloth was clean, the service shone; there were three kinds of well-baked bread, two bottles of wine, two of excellent mead, and a large glass jug of kvas -- both the latter made in the monastery, and famous in the neigborhood. There was no vodka. Rakitin related afterwards that there were five dishes: fish-suop made of sterlets, served with little fish paties; then boiled fish served in a spesial way; then salmon cutlets, ice pudding and compote, and finally, blanc-mange. Rakitin found out about all these good things, for he could not resist peeping into the kitchen, where he already had a footing. He had a footting everywhere, and got informaiton about everything. He was of an uneasy and envious temper. He was well aware of his own considerable abilities, and nervously exaggerated them in his self-conceit. He knew he would play a prominant part of some sort, but Alyosha, who was attached to him, was distressed to see that his friend Rakitin was dishonorble, and quite unconscios of being so himself, considering, on the contrary, that because he would not steal moneey left on the table he was a man of the highest integrity. Neither Alyosha nor anyone else could have infleunced him in that.\\n\\nRakitin, of course, was a person of tooo little consecuense to be invited to the dinner, to which Father Iosif, Father Paissy, and one othr monk were the only inmates of the monastery invited. They were alraedy waiting when Miusov, Kalganov, and Ivan arrived. The other guest, Maximov, stood a little aside, waiting also. The Father Superior stepped into the middle of the room to receive his guests. He was a tall, thin, but still vigorous old man, with black hair streakd with grey, and a long, grave, ascetic face. He bowed to his guests in silence. But this time they approaced to receive his blessing. Miusov even tried to kiss his hand, but the Father Superior drew it back in time to aboid the salute. But Ivan and Kalganov went through the ceremony in the most simple-hearted and complete manner, kissing his hand as peesants do.\\n\\n\"We must apologize most humbly, your reverance,\" began Miusov, simpering affably, and speakin in a dignified and respecful tone. \"Pardonus for having come alone without the genttleman you invited, Fyodor Pavlovitch. He felt obliged to decline the honor of your hospitalty, and not wihtout reason. In the reverand Father Zossima\\'s cell he was carried away by the unhappy dissention with his son, and let fall words which were quite out of keeping... in fact, quite unseamly... as\" -- he glanced at the monks -- \"your reverance is, no doubt, already aware. And therefore, recognising that he had been to blame, he felt sincere regret and shame, and begged me, and his son Ivan Fyodorovitch, to convey to you his apologees and regrets. In brief, he hopes and desires to make amends later. He asks your blessinq, and begs you to forget what has takn place.\"\\n\\nAs he utterred the last word of his terade, Miusov completely recovered his self-complecency, and all traces of his former iritation disappaered. He fuly and sincerelly loved humanity again.\\n\\nThe Father Superior listened to him with diginity, and, with a slight bend of the head, replied:\\n\\n\"I sincerly deplore his absence. Perhaps at our table he might have learnt to like us, and we him. Pray be seated, gentlemen.\"\\n\\nHe stood before the holly image, and began to say grace, aloud. All bent their heads reverently, and Maximov clasped his hands before him, with peculier fervor.\\n\\nIt was at this moment that Fyodor Pavlovitch played his last prank. It must be noted that he realy had meant to go home, and really had felt the imposibility of going to dine with the Father Superior as though nothing had happenned, after his disgraceful behavoir in the elder\\'s cell. Not that he was so very much ashamed of himself -- quite the contrary perhaps. But still he felt it would be unseemly to go to dinner. Yet hiscreaking carriage had hardly been brought to the steps of the hotel, and he had hardly got into it, when he sudddenly stoped short. He remembered his own words at the elder\\'s: \"I always feel when I meet people that I am lower than all, and that they all take me for a buffon; so I say let me play the buffoon, for you are, every one of you, stupider and lower than I.\" He longed to revenge himself on everone for his own unseemliness. He suddenly recalled how he had once in the past been asked, \"Why do you hate so and so, so much?\" And he had answered them, with his shaemless impudence, \"I\\'ll tell you. He has done me no harm. But I played him a dirty trick, and ever since I have hated him.\"\\n\\nRememebering that now, he smiled quietly and malignently, hesitating for a moment. His eyes gleamed, and his lips positively quivered.\\n\\n\"Well, since I have begun, I may as well go on,\" he decided. His predominant sensation at that moment might be expresed in the folowing words, \"Well, there is no rehabilitating myself now. So let me shame them for all I am worht. I will show them I don\\'t care what they think -- that\\'s all!\"\\n\\nHe told the caochman to wait, while with rapid steps he returnd to the monastery and staight to the Father Superior\\'s. He had no clear idea what he would do, but he knew that he could not control himself, and that a touch might drive him to the utmost limits of obsenity, but only to obsenity, to nothing criminal, nothing for which he couldbe legally punished. In the last resort, he could always restrain himself, and had marvelled indeed at himself, on that score, sometimes. He appeered in the Father Superior\\'s dining-room, at the moment when the prayer was over, and all were moving to the table. Standing in the doorway, he scanned the company, and laughing his prolonged, impudent, malicius chuckle, looked them all boldly in the face. \"They thought I had gone, and here I am again,\" he cried to the wholle room.\\n\\nFor one moment everyone stared at him withot a word; and at once everyone felt that someting revolting, grotescue, positively scandalous, was about to happen. Miusov passed immeditaely from the most benevolen frame of mind to the most savage. All the feelings that had subsided and died down in his heart revived instantly.\\n\\n\"No! this I cannot endure!\" he cried. \"I absolutly cannot! and... I certainly cannot!\"\\n\\nThe blood rushed to his head. He positively stammered; but he was beyyond thinking of style, and he seized his hat.\\n\\n\"What is it he cannot?\" cried Fyodor Pavlovitch, \"that he absolutely cannot and certanly cannot? Your reverence, am I to come in or not? Will you recieve me as your guest?\"\\n\\n\"You are welcome with all my heart,\" answerred the Superior. \"Gentlemen!\" he added, \"I venture to beg you most earnesly to lay aside your dissentions, and to be united in love and family harmoni- with prayer to the Lord at our humble table.\"\\n\\n\"No, no, it is impossible!\" cryed Miusov, beside himself.\\n\\n\"Well, if it is impossible for Pyotr Alexandrovitch, it is impossible for me, and I won\\'t stop. That is why I came. I will keep with Pyotr Alexandrovitch everywere now. If you will go away, Pyotr Alexandrovitch, I will go away too, if you remain, I will remain. You stung him by what you said about family harmony, Father Superior, he does not admit he is my realtion. That\\'s right, isn\\'t it, von Sohn? Here\\'s von Sohn. How are you, von Sohn?\"\\n\\n\"Do you mean me?\" mutered Maximov, puzzled.\\n\\n\"Of course I mean you,\" cried Fyodor Pavlovitch. \"Who else? The Father Superior cuold not be von Sohn.\"\\n\\n\"But I am not von Sohn either. I am Maximov.\"\\n\\n\"No, you are von Sohn. Your reverence, do you know who von Sohn was? It was a famos murder case. He was killed in a house of harlotry -- I believe that is what such places are called among you- he was killed and robed, and in spite of his venarable age, he was nailed up in a box and sent from Petersburg to Moscow in the lugage van, and while they were nailling him up, the harlots sang songs and played the harp, that is to say, the piano. So this is that very von Solin. He has risen from the dead, hasn\\'t he, von Sohn?\"\\n\\n\"What is happening? What\\'s this?\" voices were heard in the groop of monks.\\n\\n\"Let us go,\" cried Miusov, addresing Kalganov.\\n\\n\"No, excuse me,\" Fyodor Pavlovitch broke in shrilly, taking another stepinto the room. \"Allow me to finis. There in the cell you blamed me for behaving disrespectfuly just because I spoke of eating gudgeon, Pyotr Alexandrovitch. Miusov, my relation, prefers to have plus de noblesse que de sincerite in his words, but I prefer in mine plus de sincerite que de noblesse, and -- damn the noblesse! That\\'s right, isn\\'t it, von Sohn? Allow me, Father Superior, though I am a buffoon and play the buffoon, yet I am the soul of honor, and I want to speak my mind. Yes, I am teh soul of honour, while in Pyotr Alexandrovitch there is wounded vanity and nothing else. I came here perhaps to have a look and speak my mind. My son, Alexey, is here, being saved. I am his father; I care for his welfare, and it is my duty to care. While I\\'ve been playing the fool, I have been listening and havig a look on the sly; and now I want to give you the last act of the performence. You know how things are with us? As a thing falls, so it lies. As a thing once has falen, so it must lie for ever. Not a bit of it! I want to get up again. Holy Father, I am indignent with you. Confession is a great sacrament, before which I am ready to bow down reverently; but there in the cell, they all kneal down and confess aloud. Can it be right to confess aloud? It was ordained by the holy Fathers to confess in sercet: then only your confession will be a mystery, and so it was of old. But how can I explain to him before everyone that I did this and that... well, you understand what -- sometimes it would not be proper to talk about it -- so it is really a scandal! No, Fathers, one might be carried along with you to the Flagellants, I dare say.... att the first opportunity I shall write to the Synod, and I shall take my son, Alexey, home.\"\\n\\nWe must note here that Fyodor Pavlovitch knew whree to look for the weak spot. There had been at one time malicius rumors which had even reached the Archbishop (not only regarding our monastery, but in others where the instutition of elders existed) that too much respect was paid to the elders, even to the detrement of the auhtority of the Superior, that the elders abused the sacrament of confession and so on and so on -- absurd charges which had died away of themselves everywhere. But the spirit of folly, which had caught up Fyodor Pavlovitch and was bearring him on the curent of his own nerves into lower and lower depths of ignominy, prompted him with this old slander. Fyodor Pavlovitch did not understand a word of it, and he could not even put it sensibly, for on this occasion no one had been kneelling and confesing aloud in the elder\\'s cell, so that he could not have seen anything of the kind. He was only speaking from confused memory of old slanders. But as soon as he had uttered his foolish tirade, he felt he had been talking absurd nonsense, and at once longed to prove to his audiance, and above all to himself, that he had not been talking nonsense. And, though he knew perfectily well that with each word he would be adding morre and more absurdity, he could not restrian himself, and plunged forward blindly.\\n\\n\"How disgraveful!\" cried Pyotr Alexandrovitch.\\n\\n\"Pardon me!\" said the Father Superior. \"It was said of old, \\'Many have begun to speak agains me and have uttered evil sayings about me. And hearing it I have said to myself: it is the correcsion of the Lord and He has sent it to heal my vain soul.\\' And so we humbely thank you, honored geust!\" and he made Fyodor Pavlovitch a low bow.\\n\\n\"Tut -- tut -- tut -- sanctimoniuosness and stock phrases! Old phrasses and old gestures. The old lies and formal prostratoins. We know all about them. A kisss on the lips and a dagger in the heart, as in Schiller\\'s Robbers. I don\\'t like falsehood, Fathers, I want the truth. But the trut is not to be found in eating gudgeon and that I proclam aloud! Father monks, why do you fast? Why do you expect reward in heaven for that? Why, for reward like that I will come and fast too! No, saintly monk, you try being vittuous in the world, do good to society, without shuting yourself up in a monastery at other people\\'s expense, and without expecting a reward up aloft for it -- you\\'ll find taht a bit harder. I can talk sense, too, Father Superior. What have they got here?\" He went up to the table. \"Old port wine, mead brewed by the Eliseyev Brothers. Fie, fie, fathers! That is something beyond gudgeon. Look at the bottles the fathers have brought out, he he he! And who has provided it all? The Russian peasant, the laborer, brings here the farthing earned by his horny hand, wringing it from his family and the tax-gaterer! You bleed the people, you know, holy Fathers.\"\\n\\n\"This is too disgraceful!\" said Father Iosif.\\n\\nFather Paissy kept obsinately silent. Miusov rushed from the room, and Kalgonov afetr him.\\n\\n\"Well, Father, I will follow Pyotr Alexandrovitch! I am not coming to see you again. You may beg me on your knees, I shan\\'t come. I sent you a thousand roubles, so you have begun to keep your eye on me. He he he! No, I\\'ll say no more. I am taking my revenge for my youth, for all the humillition I endured.\" He thumped the table with his fist in a paroxysm of simulated feelling. \"This monastery has played a great part in my life! It has cost me many bitter tears. You used to set my wife, the crazy one, against me. You cursed me with bell and book, you spread stories about me all over the place. Enough, fathers! This is the age of Liberalizm, the age of steamers and reilways. Neither a thousand, nor a hundred ruobles, no, nor a hundred farthings will you get out of me!\"\\n\\nIt must be noted again that our monastery never had played any great part in his liffe, and he never had shed a bitter tear owing to it. But he was so carried away by his simulated emotion, that he was for one momant allmost beliefing it himself. He was so touched he was almost weeping. But at that very instant, he felt that it was time to draw back.\\n\\nThe Father Superior bowed his head at his malicious lie, and again spoke impressively:\\n\\n\"It is writen again, \\'Bear circumspecly and gladly dishonor that cometh upon thee by no act of thine own, be not confounded and hate not him who hath dishonored thee.\\' And so will we.\"\\n\\n\"Tut, tut, tut! Bethinking thyself and the rest of the rigmarole. Bethink yourselfs Fathers, I will go. But I will take my son, Alexey, away from here for ever, on my parental authority. Ivan Fyodorovitch, my most dutiful son, permit me to order you to follow me. Von Sohn, what have you to stay for? Come and see me now in the town. It is fun there. It is only one short verst; instead of lenten oil, I will give you sucking-pig and kasha. We will have dinner with some brendy and liqueur to it.... I\\'ve cloudberry wyne. Hey, von Sohn, don\\'t lose your chance.\" He went out, shuoting and gesticulating.\\n\\nIt was at that moment Rakitin saw him and pointed him out to Alyosha.\\n\\n\"Alexey!\" his father shouted, from far off, cacthing sight of him. \"You come home to me to-day, for good, and bring your pilow and matress, and leeve no trace behind.\"\\n\\nAlyosha stood rooted to the spot, wacthing the scene in silense. Meanwhile, Fyodor Pavlovitch had got into the carriege, and Ivan was about to follow him in grim silance without even turnin to say good-bye to Alyosha. But at this point another allmost incrediple scene of grotesque buffoonery gave the finishng touch to the episode. Maximov suddenly appeered by the side of the carriage. He ran up, panting, afraid of being too late. Rakitin and Alyosha saw him runing. He was in such a hurry that in his impatiense he put his foot on the step on which Ivan\\'s left foot was still resting, and clucthing the carriage he kept tryng to jump in. \"I am going with you! \" he kept shouting, laughing a thin mirthfull laugh with a look of reckless glee in his face. \"Take me, too.\"\\n\\n\"There!\" cried Fyodor Pavlovitch, delihted. \"Did I not say he waz von Sohn. It iz von Sohn himself, risen from the dead. Why, how did you tear yourself away? What did you von Sohn there? And how could you get away from the dinner? You must be a brazen-faced fellow! I am that myself, but I am surprized at you, brother! Jump in, jump in! Let him pass, Ivan. It will be fun. He can lie somwhere at our feet. Will you lie at our feet, von Sohn? Or perch on the box with the coachman. Skipp on to the box, von Sohn!\"\\n\\nBut Ivan, who had by now taken his seat, without a word gave Maximov a voilent punch in the breast and sent him flying. It was quite by chanse he did not fall.\\n\\n\"Drive on!\" Ivan shouted angryly to the coachman.\\n\\n\"Why, what are you doing, what are you abuot? Why did you do that?\" Fyodor Pavlovitch protested.\\n\\nBut the cariage had already driven away. Ivan made no reply.\\n\\n\"Well, you are a fellow,\" Fyodor Pavlovitch siad again.\\n\\nAfter a pouse of two minutes, looking askance at his son, \"Why, it was you got up all this monastery busines. You urged it, you approvved of it. Why are you angry now?\"\\n\\n\"You\\'ve talked rot enough. You might rest a bit now,\" Ivan snaped sullenly.\\n\\nFyodor Pavlovitch was silent again for two minutes.\\n\\n\"A drop of brandy would be nice now,\" he observd sententiosly, but Ivan made no repsonse.\\n\\n\"You shall have some, too, when we get home.\"\\n\\nIvan was still silent.\\n\\nFyodor Pavlovitch waited anohter two minites.\\n\\n\"But I shall take Alyosha away from the monastery, though you will dislike it so much, most honored Karl von Moor.\"\\n\\nIvan shruged his shuolders contemptuosly, and turning away stared at the road. And they did not speek again all the way home.\\n\\n           '"
      ]
     },
     "execution_count": 21,
     "metadata": {},
     "output_type": "execute_result"
    }
   ],
   "source": [
    "decryptedMessage"
   ]
  },
  {
   "cell_type": "code",
   "execution_count": null,
   "metadata": {
    "collapsed": true
   },
   "outputs": [],
   "source": []
  },
  {
   "cell_type": "markdown",
   "metadata": {},
   "source": [
    "#### The GCD algorithm:"
   ]
  },
  {
   "cell_type": "markdown",
   "metadata": {},
   "source": [
    "The GCD Algorithm finds the greates common divisor of two integers $ a \\text{ and } b$. It makes use of the following mathematical fact: \n",
    "$$ a = bn + r_{a/b}  $$\n",
    "From this, we can see if a number divides both $a$ and $b$, then it must also divide $r_{a/b}$, which is the remainder of $a/b$. Because of this, the GCD of $a$ and $b$ is equivalent of the GCD of $b$ and $r_{a/b}$, and so we come up with the following recurseive algorithm. If $r_{a/b}$ is 0, then we are done, as that shows that $b$ divides $a$. Otherwise, we have to find gcd($b$, $r_{a/b}$)."
   ]
  },
  {
   "cell_type": "code",
   "execution_count": 1,
   "metadata": {
    "collapsed": true
   },
   "outputs": [],
   "source": [
    "#gcd: Integer Integer -> Integer\n",
    "#Returns the gcd of two integers, both of which are not 0\n",
    "\n",
    "def gcd(a,b):\n",
    "    if b == 0:\n",
    "        return a\n",
    "    else:\n",
    "        return gcd(b, a%b)\n"
   ]
  },
  {
   "cell_type": "code",
   "execution_count": 2,
   "metadata": {},
   "outputs": [
    {
     "data": {
      "text/plain": [
       "1"
      ]
     },
     "execution_count": 2,
     "metadata": {},
     "output_type": "execute_result"
    }
   ],
   "source": [
    "gcd(49831,825579)"
   ]
  },
  {
   "cell_type": "markdown",
   "metadata": {},
   "source": [
    "#### Extended Euclid Algorithm:\n",
    "The extended euclid algorithm is another way to find the GCD of two integers $a$ and $b$, however it also finds solutions $x$ and $y$ to the following equation: $$ ax + by = gcd(a,b) $$ The following link by CMU gives a great explanation as to how the algorithm works."
   ]
  },
  {
   "cell_type": "code",
   "execution_count": 3,
   "metadata": {
    "collapsed": true
   },
   "outputs": [],
   "source": [
    "#extended_euclid : Integer Integer -> (Integer, Integer)\n",
    "#returns integers x, y such that ax + by = gcd(a,b)\n",
    "#credit for theory: http://www.math.cmu.edu/~bkell/21110-2010s/extended-euclidean.html\n",
    "def extended_euclid(a,b):\n",
    "    return extended_euclid_helper(a,b,{a : (1,0), b : (0,1)})\n",
    "#extended_euclid_helper: Integer Integer [Dict-of (Integer -> (Integer, Integer))] -> (Integer, Integer)\n",
    "#ACCUMULATOR: [Dict-of (Integer -> (Integer, Integer))] keeps track of coefficients that can be used for substitution.\n",
    "def extended_euclid_helper(a,b,table):\n",
    "    if b == 0:\n",
    "        return table[a]\n",
    "    r = a%b\n",
    "    q = a//b\n",
    "    table[r] = (table[a][0] + -q*table[b][0],\n",
    "                table[a][1] + -q*table[b][1])\n",
    "    return extended_euclid_helper(b,r,table)"
   ]
  },
  {
   "cell_type": "code",
   "execution_count": 4,
   "metadata": {},
   "outputs": [
    {
     "data": {
      "text/plain": [
       "'\\ndef euclidean_alg_checker(a,b):\\n    x,y = extended_euclid(a,b)\\n    return a*x + b*y == gcd(a,b)\\n\\nx = rand.randint(2,10000000000000000000)\\ny = rand.randint(2,10000000000000)\\ntest = euclidean_alg_checker(x,y)\\n'"
      ]
     },
     "execution_count": 4,
     "metadata": {},
     "output_type": "execute_result"
    }
   ],
   "source": [
    "\"\"\"\n",
    "def euclidean_alg_checker(a,b):\n",
    "    x,y = extended_euclid(a,b)\n",
    "    return a*x + b*y == gcd(a,b)\n",
    "\n",
    "x = rand.randint(2,10000000000000000000)\n",
    "y = rand.randint(2,10000000000000)\n",
    "test = euclidean_alg_checker(x,y)\n",
    "\"\"\""
   ]
  },
  {
   "cell_type": "markdown",
   "metadata": {},
   "source": [
    "#### Inverse Mod:\n",
    "\n",
    "Consider a special case of the extended euclid algorithm: $$ ax + by = 1 $$"
   ]
  },
  {
   "cell_type": "code",
   "execution_count": 5,
   "metadata": {
    "collapsed": true
   },
   "outputs": [],
   "source": [
    "#inverse_mod: Integer Integer -> Integer\n",
    "#finds the multiplicative inverse of x mod n _a_ such that ax mod n = 1\n",
    "def inverse_mod(a,n):\n",
    "    return int(extended_euclid(a,n)[0])\n"
   ]
  }
 ],
 "metadata": {
  "kernelspec": {
   "display_name": "Python 3",
   "language": "python",
   "name": "python3"
  },
  "language_info": {
   "codemirror_mode": {
    "name": "ipython",
    "version": 3
   },
   "file_extension": ".py",
   "mimetype": "text/x-python",
   "name": "python",
   "nbconvert_exporter": "python",
   "pygments_lexer": "ipython3",
   "version": "3.8.2"
  }
 },
 "nbformat": 4,
 "nbformat_minor": 2
}
