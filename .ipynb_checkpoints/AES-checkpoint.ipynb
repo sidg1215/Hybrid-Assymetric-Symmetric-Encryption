{
 "cells": [
  {
   "cell_type": "code",
   "execution_count": 1,
   "metadata": {
    "collapsed": true
   },
   "outputs": [],
   "source": [
    "from PIL import Image\n",
    "import numpy"
   ]
  },
  {
   "cell_type": "code",
   "execution_count": 138,
   "metadata": {
    "collapsed": true
   },
   "outputs": [],
   "source": [
    "#A [Block X] is a [List-of [List-of X]]\n",
    "#Interpretation: Represents a 4x4 block that is used in AES during encryption/decryption\n",
    "\n",
    "#stringToHex : String -> [List-of Byte]\n",
    "#Converts a string to a list of bytes in hex form\n",
    "def stringToHex(m):\n",
    "    ascii_array = list(m)\n",
    "    return list(map(ord,m))\n",
    "#encoder : String -> [List-of [Block Hex]]\n",
    "#Encodes the message to be encrypted in the AES Algorithm\n",
    "def encoder(m):\n",
    "    if type(m) == str:\n",
    "        if len(m) % 16 != 0:\n",
    "            m += ' ' *(16 - (len(m) % 16))\n",
    "        rows = [stringToHex(m[(i - 4):i]) for i in range(4,len(m) + 1,4)]\n",
    "        blocks = [list(rows[(i - 4):i]) for i in range(4,len(rows) + 1,4)]\n",
    "        return blocks\n",
    "    else:\n",
    "        imageArray = numpy.asarray(m)\n",
    "        imageArray = imageArray.reshape(len(imageArray),len(imageArray[0])*3)\n",
    "        if (len(imageArray) % 12 != 0 or len(imageArray[0]) % 12 != 0):\n",
    "            imageArray = numpy.pad(imageArray, ((0, 12 - (len(imageArray)%12)),\n",
    "                                     (0, 12 - (len(imageArray[0])%12))), constant_values = (0,0))\n",
    "        blocks = numpy.array([imageArray[i:i+4, j:j+4] for i in range(0,len(imageArray),4) \n",
    "                              for j in range(0,len(imageArray[0]),4)])\n",
    "        h,w = len(imageArray)//4, len(imageArray[0])//4\n",
    "        return blocks, (h,w)\n",
    "#decoder: String -> [List-of Block]\n",
    "#Decodes an encrypted message that is to be decrypted by the AES Algorithm\n",
    "def decoder(m):\n",
    "    if type(m) == str:\n",
    "        chunks = [m[i-32:i] for i in range(32,len(m)+1,32)]\n",
    "        decoded = [numpy.array(stringTo4x4(i, (lambda x : int(x, 16)))).T for i in chunks]\n",
    "        return decoded"
   ]
  },
  {
   "cell_type": "code",
   "execution_count": 139,
   "metadata": {
    "code_folding": [
     1,
     36
    ],
    "collapsed": true
   },
   "outputs": [],
   "source": [
    "#I found this look up table from: https://medium.com/wavy-engineering/building-aes-128-from-the-ground-up-with-python-8122af44ebf9\n",
    "aes_sbox = [\n",
    "    [int('63', 16), int('7c', 16), int('77', 16), int('7b', 16), int('f2', 16), int('6b', 16), int('6f', 16), int('c5', 16), int(\n",
    "        '30', 16), int('01', 16), int('67', 16), int('2b', 16), int('fe', 16), int('d7', 16), int('ab', 16), int('76', 16)],\n",
    "    [int('ca', 16), int('82', 16), int('c9', 16), int('7d', 16), int('fa', 16), int('59', 16), int('47', 16), int('f0', 16), int(\n",
    "        'ad', 16), int('d4', 16), int('a2', 16), int('af', 16), int('9c', 16), int('a4', 16), int('72', 16), int('c0', 16)],\n",
    "    [int('b7', 16), int('fd', 16), int('93', 16), int('26', 16), int('36', 16), int('3f', 16), int('f7', 16), int('cc', 16), int(\n",
    "        '34', 16), int('a5', 16), int('e5', 16), int('f1', 16), int('71', 16), int('d8', 16), int('31', 16), int('15', 16)],\n",
    "    [int('04', 16), int('c7', 16), int('23', 16), int('c3', 16), int('18', 16), int('96', 16), int('05', 16), int('9a', 16), int(\n",
    "        '07', 16), int('12', 16), int('80', 16), int('e2', 16), int('eb', 16), int('27', 16), int('b2', 16), int('75', 16)],\n",
    "    [int('09', 16), int('83', 16), int('2c', 16), int('1a', 16), int('1b', 16), int('6e', 16), int('5a', 16), int('a0', 16), int(\n",
    "        '52', 16), int('3b', 16), int('d6', 16), int('b3', 16), int('29', 16), int('e3', 16), int('2f', 16), int('84', 16)],\n",
    "    [int('53', 16), int('d1', 16), int('00', 16), int('ed', 16), int('20', 16), int('fc', 16), int('b1', 16), int('5b', 16), int(\n",
    "        '6a', 16), int('cb', 16), int('be', 16), int('39', 16), int('4a', 16), int('4c', 16), int('58', 16), int('cf', 16)],\n",
    "    [int('d0', 16), int('ef', 16), int('aa', 16), int('fb', 16), int('43', 16), int('4d', 16), int('33', 16), int('85', 16), int(\n",
    "        '45', 16), int('f9', 16), int('02', 16), int('7f', 16), int('50', 16), int('3c', 16), int('9f', 16), int('a8', 16)],\n",
    "    [int('51', 16), int('a3', 16), int('40', 16), int('8f', 16), int('92', 16), int('9d', 16), int('38', 16), int('f5', 16), int(\n",
    "        'bc', 16), int('b6', 16), int('da', 16), int('21', 16), int('10', 16), int('ff', 16), int('f3', 16), int('d2', 16)],\n",
    "    [int('cd', 16), int('0c', 16), int('13', 16), int('ec', 16), int('5f', 16), int('97', 16), int('44', 16), int('17', 16), int(\n",
    "        'c4', 16), int('a7', 16), int('7e', 16), int('3d', 16), int('64', 16), int('5d', 16), int('19', 16), int('73', 16)],\n",
    "    [int('60', 16), int('81', 16), int('4f', 16), int('dc', 16), int('22', 16), int('2a', 16), int('90', 16), int('88', 16), int(\n",
    "        '46', 16), int('ee', 16), int('b8', 16), int('14', 16), int('de', 16), int('5e', 16), int('0b', 16), int('db', 16)],\n",
    "    [int('e0', 16), int('32', 16), int('3a', 16), int('0a', 16), int('49', 16), int('06', 16), int('24', 16), int('5c', 16), int(\n",
    "        'c2', 16), int('d3', 16), int('ac', 16), int('62', 16), int('91', 16), int('95', 16), int('e4', 16), int('79', 16)],\n",
    "    [int('e7', 16), int('c8', 16), int('37', 16), int('6d', 16), int('8d', 16), int('d5', 16), int('4e', 16), int('a9', 16), int(\n",
    "        '6c', 16), int('56', 16), int('f4', 16), int('ea', 16), int('65', 16), int('7a', 16), int('ae', 16), int('08', 16)],\n",
    "    [int('ba', 16), int('78', 16), int('25', 16), int('2e', 16), int('1c', 16), int('a6', 16), int('b4', 16), int('c6', 16), int(\n",
    "        'e8', 16), int('dd', 16), int('74', 16), int('1f', 16), int('4b', 16), int('bd', 16), int('8b', 16), int('8a', 16)],\n",
    "    [int('70', 16), int('3e', 16), int('b5', 16), int('66', 16), int('48', 16), int('03', 16), int('f6', 16), int('0e', 16), int(\n",
    "        '61', 16), int('35', 16), int('57', 16), int('b9', 16), int('86', 16), int('c1', 16), int('1d', 16), int('9e', 16)],\n",
    "    [int('e1', 16), int('f8', 16), int('98', 16), int('11', 16), int('69', 16), int('d9', 16), int('8e', 16), int('94', 16), int(\n",
    "        '9b', 16), int('1e', 16), int('87', 16), int('e9', 16), int('ce', 16), int('55', 16), int('28', 16), int('df', 16)],\n",
    "    [int('8c', 16), int('a1', 16), int('89', 16), int('0d', 16), int('bf', 16), int('e6', 16), int('42', 16), int('68', 16), int(\n",
    "        '41', 16), int('99', 16), int('2d', 16), int('0f', 16), int('b0', 16), int('54', 16), int('bb', 16), int('16', 16)]\n",
    "]\n",
    "\n",
    "inverse_aes_sbox = [\n",
    "    [int('52', 16), int('09', 16), int('6a', 16), int('d5', 16), int('30', 16), int('36', 16), int('a5', 16), int('38', 16), int(\n",
    "        'bf', 16), int('40', 16), int('a3', 16), int('9e', 16), int('81', 16), int('f3', 16), int('d7', 16), int('fb', 16)],\n",
    "    [int('7c', 16), int('e3', 16), int('39', 16), int('82', 16), int('9b', 16), int('2f', 16), int('ff', 16), int('87', 16), int(\n",
    "        '34', 16), int('8e', 16), int('43', 16), int('44', 16), int('c4', 16), int('de', 16), int('e9', 16), int('cb', 16)],\n",
    "    [int('54', 16), int('7b', 16), int('94', 16), int('32', 16), int('a6', 16), int('c2', 16), int('23', 16), int('3d', 16), int(\n",
    "        'ee', 16), int('4c', 16), int('95', 16), int('0b', 16), int('42', 16), int('fa', 16), int('c3', 16), int('4e', 16)],\n",
    "    [int('08', 16), int('2e', 16), int('a1', 16), int('66', 16), int('28', 16), int('d9', 16), int('24', 16), int('b2', 16), int(\n",
    "        '76', 16), int('5b', 16), int('a2', 16), int('49', 16), int('6d', 16), int('8b', 16), int('d1', 16), int('25', 16)],\n",
    "    [int('72', 16), int('f8', 16), int('f6', 16), int('64', 16), int('86', 16), int('68', 16), int('98', 16), int('16', 16), int(\n",
    "        'd4', 16), int('a4', 16), int('5c', 16), int('cc', 16), int('5d', 16), int('65', 16), int('b6', 16), int('92', 16)],\n",
    "    [int('6c', 16), int('70', 16), int('48', 16), int('50', 16), int('fd', 16), int('ed', 16), int('b9', 16), int('da', 16), int(\n",
    "        '5e', 16), int('15', 16), int('46', 16), int('57', 16), int('a7', 16), int('8d', 16), int('9d', 16), int('84', 16)],\n",
    "    [int('90', 16), int('d8', 16), int('ab', 16), int('00', 16), int('8c', 16), int('bc', 16), int('d3', 16), int('0a', 16), int(\n",
    "        'f7', 16), int('e4', 16), int('58', 16), int('05', 16), int('b8', 16), int('b3', 16), int('45', 16), int('06', 16)],\n",
    "    [int('d0', 16), int('2c', 16), int('1e', 16), int('8f', 16), int('ca', 16), int('3f', 16), int('0f', 16), int('02', 16), int(\n",
    "        'c1', 16), int('af', 16), int('bd', 16), int('03', 16), int('01', 16), int('13', 16), int('8a', 16), int('6b', 16)],\n",
    "    [int('3a', 16), int('91', 16), int('11', 16), int('41', 16), int('4f', 16), int('67', 16), int('dc', 16), int('ea', 16), int(\n",
    "        '97', 16), int('f2', 16), int('cf', 16), int('ce', 16), int('f0', 16), int('b4', 16), int('e6', 16), int('73', 16)],\n",
    "    [int('96', 16), int('ac', 16), int('74', 16), int('22', 16), int('e7', 16), int('ad', 16), int('35', 16), int('85', 16), int(\n",
    "        'e2', 16), int('f9', 16), int('37', 16), int('e8', 16), int('1c', 16), int('75', 16), int('df', 16), int('6e', 16)],\n",
    "    [int('47', 16), int('f1', 16), int('1a', 16), int('71', 16), int('1d', 16), int('29', 16), int('c5', 16), int('89', 16), int(\n",
    "        '6f', 16), int('b7', 16), int('62', 16), int('0e', 16), int('aa', 16), int('18', 16), int('be', 16), int('1b', 16)],\n",
    "    [int('fc', 16), int('56', 16), int('3e', 16), int('4b', 16), int('c6', 16), int('d2', 16), int('79', 16), int('20', 16), int(\n",
    "        '9a', 16), int('db', 16), int('c0', 16), int('fe', 16), int('78', 16), int('cd', 16), int('5a', 16), int('f4', 16)],\n",
    "    [int('1f', 16), int('dd', 16), int('a8', 16), int('33', 16), int('88', 16), int('07', 16), int('c7', 16), int('31', 16), int(\n",
    "        'b1', 16), int('12', 16), int('10', 16), int('59', 16), int('27', 16), int('80', 16), int('ec', 16), int('5f', 16)],\n",
    "    [int('60', 16), int('51', 16), int('7f', 16), int('a9', 16), int('19', 16), int('b5', 16), int('4a', 16), int('0d', 16), int(\n",
    "        '2d', 16), int('e5', 16), int('7a', 16), int('9f', 16), int('93', 16), int('c9', 16), int('9c', 16), int('ef', 16)],\n",
    "    [int('a0', 16), int('e0', 16), int('3b', 16), int('4d', 16), int('ae', 16), int('2a', 16), int('f5', 16), int('b0', 16), int(\n",
    "        'c8', 16), int('eb', 16), int('bb', 16), int('3c', 16), int('83', 16), int('53', 16), int('99', 16), int('61', 16)],\n",
    "    [int('17', 16), int('2b', 16), int('04', 16), int('7e', 16), int('ba', 16), int('77', 16), int('d6', 16), int('26', 16), int(\n",
    "        'e1', 16), int('69', 16), int('14', 16), int('63', 16), int('55', 16), int('21', 16), int('0c', 16), int('7d', 16)]\n",
    "]\n",
    "\n",
    "#lookup : Byte -> HexString\n",
    "#maps a byte to its corresponding value in the S-Box\n",
    "def lookup(byte):\n",
    "    byte = toHex(byte)\n",
    "    x = int(byte[0],16)\n",
    "    y = int(byte[1],16)\n",
    "    return aes_sbox[x][y]\n",
    "\n",
    "#reverse_lookup : Byte -> HexString\n",
    "#maps a byte to its corresponding value in the inverse S-Box\n",
    "def reverse_lookup(byte):\n",
    "    x = byte >> 4\n",
    "    y = byte & 15\n",
    "    return inverse_aes_sbox[x][y]"
   ]
  },
  {
   "cell_type": "code",
   "execution_count": 140,
   "metadata": {
    "collapsed": true
   },
   "outputs": [],
   "source": [
    "import random\n",
    "#generateKey : -> BitString\n",
    "#Generates a random 128-bit binary string in hex (key)\n",
    "def generateKey(n = 128):\n",
    "    return hex(random.getrandbits(n))[2:]"
   ]
  },
  {
   "cell_type": "code",
   "execution_count": 141,
   "metadata": {
    "collapsed": true
   },
   "outputs": [],
   "source": [
    "def stringTo4x4(m, f):\n",
    "    rows = [f (m[(i - 2):i]) for i in range(2,len(m) + 1,2)]\n",
    "    blocks = [list(rows[(i - 4):i]) for i in range(4,len(rows) + 1,4)]\n",
    "    return blocks"
   ]
  },
  {
   "cell_type": "code",
   "execution_count": 142,
   "metadata": {
    "collapsed": true
   },
   "outputs": [],
   "source": [
    "#shiftRow: [List-of Hex] Integer Boolean -> [List-of Hex]\n",
    "#Shifts all elements in an array by _n_ units to the right (if inverse=True, _n_ units to the left)\n",
    "def shiftRow(row, n, inverse = False):\n",
    "    temp = row[:]\n",
    "    for i in range(0,n):\n",
    "        if inverse:\n",
    "            shiftOnce(shiftOnce(shiftOnce(temp)))\n",
    "        else:\n",
    "            shiftOnce(temp)\n",
    "    return temp\n",
    "#shiftRow: [List-of Hex] -> [List-of Hex]\n",
    "#Shifts all elemnts in an array 1 unit to the right\n",
    "def shiftOnce(row):\n",
    "    for i in range(0,len(row)-1):\n",
    "        row[i],row[i-1] = row[i-1],row[i]\n",
    "    return row"
   ]
  },
  {
   "cell_type": "code",
   "execution_count": 143,
   "metadata": {
    "collapsed": true
   },
   "outputs": [],
   "source": [
    "#Table to be used in each round of the encryption/decryption process\n",
    "rcons = {1 : 0x01,\n",
    "        2 : 0x02,\n",
    "        3 : 0x04,\n",
    "        4 : 0x08,\n",
    "        5 : 0x10,\n",
    "        6 : 0x20,\n",
    "        7 : 0x40,\n",
    "        8 : 0x80,\n",
    "        9 : 0x1B,\n",
    "        10 : 0x36}"
   ]
  },
  {
   "cell_type": "code",
   "execution_count": 144,
   "metadata": {
    "collapsed": true
   },
   "outputs": [],
   "source": [
    "import numpy\n",
    "\n",
    "#toHex: Integer -> Hex\n",
    "#Converts an integer to a hex string\n",
    "def toHex(n):\n",
    "    hexString = hex(n)[2:]\n",
    "    if len(hexString) == 1:\n",
    "        return '0' + hexString\n",
    "    return hex(n)[2:]\n",
    "\n",
    "#bitwiseXOR: [List-of Integer] [List-of Integer] -> [List-of Integer]\n",
    "#Takes the XOR of two byte arrays (bytes represented as integers)\n",
    "def bitwiseXOR(arr1, arr2):\n",
    "    return list(numpy.bitwise_xor(numpy.array(arr1),\n",
    "                                  numpy.array(arr2)))\n",
    "\n",
    "def hex_bitwiseXOR(arr1, arr2):\n",
    "    return list(map(toHex, bitwiseXOR(arr1, arr2)))\n",
    "\n",
    "#hexToInt: [List-of Hex] -> [List-of Int]\n",
    "#Converts a list of hex strings to a list of integers\n",
    "def hexToInt(arr):\n",
    "    return list(map((lambda x : int(x, 16)),arr))\n",
    "\n",
    "#generateRoundKeys: HexString -> [List-of [Block Hex]]\n",
    "#Generates 10 round keys that are to be used in encryption and decryption\n",
    "def generateRoundKeys(s):\n",
    "    key0 = stringTo4x4(s, (lambda x: x))\n",
    "    key0 = [hexToInt(key0[i]) for i in range(0,4)]\n",
    "    roundKeys = [key0]\n",
    "\n",
    "    for i in range(0, 10):\n",
    "        key = []\n",
    "        shifted = shiftRow(roundKeys[i][-1], 1)\n",
    "        substituted = list(map(lookup, shifted))\n",
    "        addRoundCons = list(numpy.bitwise_xor(numpy.array([rcons[i+1], 0, 0, 0]),\n",
    "                                numpy.array(substituted)))\n",
    "        key.append(bitwiseXOR(addRoundCons,roundKeys[i][0]))\n",
    "        key.append(bitwiseXOR(key[0],roundKeys[i][1]))\n",
    "        key.append(bitwiseXOR(key[1],roundKeys[i][2]))\n",
    "        key.append(bitwiseXOR(key[2],roundKeys[i][3]))\n",
    "        roundKeys.append(key)\n",
    "        \n",
    "    return roundKeys"
   ]
  },
  {
   "cell_type": "code",
   "execution_count": 145,
   "metadata": {
    "code_folding": [
     0
    ],
    "collapsed": true
   },
   "outputs": [],
   "source": [
    "multiplication_table = {2 : [0x00,0x02,0x04,0x06,0x08,0x0a,0x0c,0x0e,0x10,0x12,0x14,0x16,0x18,0x1a,0x1c,0x1e,\n",
    "        0x20,0x22,0x24,0x26,0x28,0x2a,0x2c,0x2e,0x30,0x32,0x34,0x36,0x38,0x3a,0x3c,0x3e,\n",
    "        0x40,0x42,0x44,0x46,0x48,0x4a,0x4c,0x4e,0x50,0x52,0x54,0x56,0x58,0x5a,0x5c,0x5e,\n",
    "        0x60,0x62,0x64,0x66,0x68,0x6a,0x6c,0x6e,0x70,0x72,0x74,0x76,0x78,0x7a,0x7c,0x7e,\n",
    "        0x80,0x82,0x84,0x86,0x88,0x8a,0x8c,0x8e,0x90,0x92,0x94,0x96,0x98,0x9a,0x9c,0x9e,\n",
    "        0xa0,0xa2,0xa4,0xa6,0xa8,0xaa,0xac,0xae,0xb0,0xb2,0xb4,0xb6,0xb8,0xba,0xbc,0xbe,\n",
    "        0xc0,0xc2,0xc4,0xc6,0xc8,0xca,0xcc,0xce,0xd0,0xd2,0xd4,0xd6,0xd8,0xda,0xdc,0xde,\n",
    "        0xe0,0xe2,0xe4,0xe6,0xe8,0xea,0xec,0xee,0xf0,0xf2,0xf4,0xf6,0xf8,0xfa,0xfc,0xfe,\n",
    "        0x1b,0x19,0x1f,0x1d,0x13,0x11,0x17,0x15,0x0b,0x09,0x0f,0x0d,0x03,0x01,0x07,0x05,\n",
    "        0x3b,0x39,0x3f,0x3d,0x33,0x31,0x37,0x35,0x2b,0x29,0x2f,0x2d,0x23,0x21,0x27,0x25,\n",
    "        0x5b,0x59,0x5f,0x5d,0x53,0x51,0x57,0x55,0x4b,0x49,0x4f,0x4d,0x43,0x41,0x47,0x45,\n",
    "        0x7b,0x79,0x7f,0x7d,0x73,0x71,0x77,0x75,0x6b,0x69,0x6f,0x6d,0x63,0x61,0x67,0x65,\n",
    "        0x9b,0x99,0x9f,0x9d,0x93,0x91,0x97,0x95,0x8b,0x89,0x8f,0x8d,0x83,0x81,0x87,0x85,\n",
    "        0xbb,0xb9,0xbf,0xbd,0xb3,0xb1,0xb7,0xb5,0xab,0xa9,0xaf,0xad,0xa3,0xa1,0xa7,0xa5,\n",
    "        0xdb,0xd9,0xdf,0xdd,0xd3,0xd1,0xd7,0xd5,0xcb,0xc9,0xcf,0xcd,0xc3,0xc1,0xc7,0xc5,\n",
    "        0xfb,0xf9,0xff,0xfd,0xf3,0xf1,0xf7,0xf5,0xeb,0xe9,0xef,0xed,0xe3,0xe1,0xe7,0xe5],\n",
    "\n",
    "        3 : [0x00,0x03,0x06,0x05,0x0c,0x0f,0x0a,0x09,0x18,0x1b,0x1e,0x1d,0x14,0x17,0x12,0x11,\n",
    "        0x30,0x33,0x36,0x35,0x3c,0x3f,0x3a,0x39,0x28,0x2b,0x2e,0x2d,0x24,0x27,0x22,0x21,\n",
    "        0x60,0x63,0x66,0x65,0x6c,0x6f,0x6a,0x69,0x78,0x7b,0x7e,0x7d,0x74,0x77,0x72,0x71,\n",
    "        0x50,0x53,0x56,0x55,0x5c,0x5f,0x5a,0x59,0x48,0x4b,0x4e,0x4d,0x44,0x47,0x42,0x41,\n",
    "        0xc0,0xc3,0xc6,0xc5,0xcc,0xcf,0xca,0xc9,0xd8,0xdb,0xde,0xdd,0xd4,0xd7,0xd2,0xd1,\n",
    "        0xf0,0xf3,0xf6,0xf5,0xfc,0xff,0xfa,0xf9,0xe8,0xeb,0xee,0xed,0xe4,0xe7,0xe2,0xe1,\n",
    "        0xa0,0xa3,0xa6,0xa5,0xac,0xaf,0xaa,0xa9,0xb8,0xbb,0xbe,0xbd,0xb4,0xb7,0xb2,0xb1,\n",
    "        0x90,0x93,0x96,0x95,0x9c,0x9f,0x9a,0x99,0x88,0x8b,0x8e,0x8d,0x84,0x87,0x82,0x81,\n",
    "        0x9b,0x98,0x9d,0x9e,0x97,0x94,0x91,0x92,0x83,0x80,0x85,0x86,0x8f,0x8c,0x89,0x8a,\n",
    "        0xab,0xa8,0xad,0xae,0xa7,0xa4,0xa1,0xa2,0xb3,0xb0,0xb5,0xb6,0xbf,0xbc,0xb9,0xba,\n",
    "        0xfb,0xf8,0xfd,0xfe,0xf7,0xf4,0xf1,0xf2,0xe3,0xe0,0xe5,0xe6,0xef,0xec,0xe9,0xea,\n",
    "        0xcb,0xc8,0xcd,0xce,0xc7,0xc4,0xc1,0xc2,0xd3,0xd0,0xd5,0xd6,0xdf,0xdc,0xd9,0xda,\n",
    "        0x5b,0x58,0x5d,0x5e,0x57,0x54,0x51,0x52,0x43,0x40,0x45,0x46,0x4f,0x4c,0x49,0x4a,\n",
    "        0x6b,0x68,0x6d,0x6e,0x67,0x64,0x61,0x62,0x73,0x70,0x75,0x76,0x7f,0x7c,0x79,0x7a,\n",
    "        0x3b,0x38,0x3d,0x3e,0x37,0x34,0x31,0x32,0x23,0x20,0x25,0x26,0x2f,0x2c,0x29,0x2a,\n",
    "        0x0b,0x08,0x0d,0x0e,0x07,0x04,0x01,0x02,0x13,0x10,0x15,0x16,0x1f,0x1c,0x19,0x1a],\n",
    "\n",
    "        9 : [0x00,0x09,0x12,0x1b,0x24,0x2d,0x36,0x3f,0x48,0x41,0x5a,0x53,0x6c,0x65,0x7e,0x77,\n",
    "        0x90,0x99,0x82,0x8b,0xb4,0xbd,0xa6,0xaf,0xd8,0xd1,0xca,0xc3,0xfc,0xf5,0xee,0xe7,\n",
    "        0x3b,0x32,0x29,0x20,0x1f,0x16,0x0d,0x04,0x73,0x7a,0x61,0x68,0x57,0x5e,0x45,0x4c,\n",
    "        0xab,0xa2,0xb9,0xb0,0x8f,0x86,0x9d,0x94,0xe3,0xea,0xf1,0xf8,0xc7,0xce,0xd5,0xdc,\n",
    "        0x76,0x7f,0x64,0x6d,0x52,0x5b,0x40,0x49,0x3e,0x37,0x2c,0x25,0x1a,0x13,0x08,0x01,\n",
    "        0xe6,0xef,0xf4,0xfd,0xc2,0xcb,0xd0,0xd9,0xae,0xa7,0xbc,0xb5,0x8a,0x83,0x98,0x91,\n",
    "        0x4d,0x44,0x5f,0x56,0x69,0x60,0x7b,0x72,0x05,0x0c,0x17,0x1e,0x21,0x28,0x33,0x3a,\n",
    "        0xdd,0xd4,0xcf,0xc6,0xf9,0xf0,0xeb,0xe2,0x95,0x9c,0x87,0x8e,0xb1,0xb8,0xa3,0xaa,\n",
    "        0xec,0xe5,0xfe,0xf7,0xc8,0xc1,0xda,0xd3,0xa4,0xad,0xb6,0xbf,0x80,0x89,0x92,0x9b,\n",
    "        0x7c,0x75,0x6e,0x67,0x58,0x51,0x4a,0x43,0x34,0x3d,0x26,0x2f,0x10,0x19,0x02,0x0b,\n",
    "        0xd7,0xde,0xc5,0xcc,0xf3,0xfa,0xe1,0xe8,0x9f,0x96,0x8d,0x84,0xbb,0xb2,0xa9,0xa0,\n",
    "        0x47,0x4e,0x55,0x5c,0x63,0x6a,0x71,0x78,0x0f,0x06,0x1d,0x14,0x2b,0x22,0x39,0x30,\n",
    "        0x9a,0x93,0x88,0x81,0xbe,0xb7,0xac,0xa5,0xd2,0xdb,0xc0,0xc9,0xf6,0xff,0xe4,0xed,\n",
    "        0x0a,0x03,0x18,0x11,0x2e,0x27,0x3c,0x35,0x42,0x4b,0x50,0x59,0x66,0x6f,0x74,0x7d,\n",
    "        0xa1,0xa8,0xb3,0xba,0x85,0x8c,0x97,0x9e,0xe9,0xe0,0xfb,0xf2,0xcd,0xc4,0xdf,0xd6,\n",
    "        0x31,0x38,0x23,0x2a,0x15,0x1c,0x07,0x0e,0x79,0x70,0x6b,0x62,0x5d,0x54,0x4f,0x46],\n",
    "\n",
    "        11 : [0x00,0x0b,0x16,0x1d,0x2c,0x27,0x3a,0x31,0x58,0x53,0x4e,0x45,0x74,0x7f,0x62,0x69,\n",
    "        0xb0,0xbb,0xa6,0xad,0x9c,0x97,0x8a,0x81,0xe8,0xe3,0xfe,0xf5,0xc4,0xcf,0xd2,0xd9,\n",
    "        0x7b,0x70,0x6d,0x66,0x57,0x5c,0x41,0x4a,0x23,0x28,0x35,0x3e,0x0f,0x04,0x19,0x12,\n",
    "        0xcb,0xc0,0xdd,0xd6,0xe7,0xec,0xf1,0xfa,0x93,0x98,0x85,0x8e,0xbf,0xb4,0xa9,0xa2,\n",
    "        0xf6,0xfd,0xe0,0xeb,0xda,0xd1,0xcc,0xc7,0xae,0xa5,0xb8,0xb3,0x82,0x89,0x94,0x9f,\n",
    "        0x46,0x4d,0x50,0x5b,0x6a,0x61,0x7c,0x77,0x1e,0x15,0x08,0x03,0x32,0x39,0x24,0x2f,\n",
    "        0x8d,0x86,0x9b,0x90,0xa1,0xaa,0xb7,0xbc,0xd5,0xde,0xc3,0xc8,0xf9,0xf2,0xef,0xe4,\n",
    "        0x3d,0x36,0x2b,0x20,0x11,0x1a,0x07,0x0c,0x65,0x6e,0x73,0x78,0x49,0x42,0x5f,0x54,\n",
    "        0xf7,0xfc,0xe1,0xea,0xdb,0xd0,0xcd,0xc6,0xaf,0xa4,0xb9,0xb2,0x83,0x88,0x95,0x9e,\n",
    "        0x47,0x4c,0x51,0x5a,0x6b,0x60,0x7d,0x76,0x1f,0x14,0x09,0x02,0x33,0x38,0x25,0x2e,\n",
    "        0x8c,0x87,0x9a,0x91,0xa0,0xab,0xb6,0xbd,0xd4,0xdf,0xc2,0xc9,0xf8,0xf3,0xee,0xe5,\n",
    "        0x3c,0x37,0x2a,0x21,0x10,0x1b,0x06,0x0d,0x64,0x6f,0x72,0x79,0x48,0x43,0x5e,0x55,\n",
    "        0x01,0x0a,0x17,0x1c,0x2d,0x26,0x3b,0x30,0x59,0x52,0x4f,0x44,0x75,0x7e,0x63,0x68,\n",
    "        0xb1,0xba,0xa7,0xac,0x9d,0x96,0x8b,0x80,0xe9,0xe2,0xff,0xf4,0xc5,0xce,0xd3,0xd8,\n",
    "        0x7a,0x71,0x6c,0x67,0x56,0x5d,0x40,0x4b,0x22,0x29,0x34,0x3f,0x0e,0x05,0x18,0x13,\n",
    "        0xca,0xc1,0xdc,0xd7,0xe6,0xed,0xf0,0xfb,0x92,0x99,0x84,0x8f,0xbe,0xb5,0xa8,0xa3],\n",
    "\n",
    "        13 : [0x00,0x0d,0x1a,0x17,0x34,0x39,0x2e,0x23,0x68,0x65,0x72,0x7f,0x5c,0x51,0x46,0x4b,\n",
    "        0xd0,0xdd,0xca,0xc7,0xe4,0xe9,0xfe,0xf3,0xb8,0xb5,0xa2,0xaf,0x8c,0x81,0x96,0x9b,\n",
    "        0xbb,0xb6,0xa1,0xac,0x8f,0x82,0x95,0x98,0xd3,0xde,0xc9,0xc4,0xe7,0xea,0xfd,0xf0,\n",
    "        0x6b,0x66,0x71,0x7c,0x5f,0x52,0x45,0x48,0x03,0x0e,0x19,0x14,0x37,0x3a,0x2d,0x20,\n",
    "        0x6d,0x60,0x77,0x7a,0x59,0x54,0x43,0x4e,0x05,0x08,0x1f,0x12,0x31,0x3c,0x2b,0x26,\n",
    "        0xbd,0xb0,0xa7,0xaa,0x89,0x84,0x93,0x9e,0xd5,0xd8,0xcf,0xc2,0xe1,0xec,0xfb,0xf6,\n",
    "        0xd6,0xdb,0xcc,0xc1,0xe2,0xef,0xf8,0xf5,0xbe,0xb3,0xa4,0xa9,0x8a,0x87,0x90,0x9d,\n",
    "        0x06,0x0b,0x1c,0x11,0x32,0x3f,0x28,0x25,0x6e,0x63,0x74,0x79,0x5a,0x57,0x40,0x4d,\n",
    "        0xda,0xd7,0xc0,0xcd,0xee,0xe3,0xf4,0xf9,0xb2,0xbf,0xa8,0xa5,0x86,0x8b,0x9c,0x91,\n",
    "        0x0a,0x07,0x10,0x1d,0x3e,0x33,0x24,0x29,0x62,0x6f,0x78,0x75,0x56,0x5b,0x4c,0x41,\n",
    "        0x61,0x6c,0x7b,0x76,0x55,0x58,0x4f,0x42,0x09,0x04,0x13,0x1e,0x3d,0x30,0x27,0x2a,\n",
    "        0xb1,0xbc,0xab,0xa6,0x85,0x88,0x9f,0x92,0xd9,0xd4,0xc3,0xce,0xed,0xe0,0xf7,0xfa,\n",
    "        0xb7,0xba,0xad,0xa0,0x83,0x8e,0x99,0x94,0xdf,0xd2,0xc5,0xc8,0xeb,0xe6,0xf1,0xfc,\n",
    "        0x67,0x6a,0x7d,0x70,0x53,0x5e,0x49,0x44,0x0f,0x02,0x15,0x18,0x3b,0x36,0x21,0x2c,\n",
    "        0x0c,0x01,0x16,0x1b,0x38,0x35,0x22,0x2f,0x64,0x69,0x7e,0x73,0x50,0x5d,0x4a,0x47,\n",
    "        0xdc,0xd1,0xc6,0xcb,0xe8,0xe5,0xf2,0xff,0xb4,0xb9,0xae,0xa3,0x80,0x8d,0x9a,0x97],\n",
    "\n",
    "        14 : [0x00,0x0e,0x1c,0x12,0x38,0x36,0x24,0x2a,0x70,0x7e,0x6c,0x62,0x48,0x46,0x54,0x5a,\n",
    "        0xe0,0xee,0xfc,0xf2,0xd8,0xd6,0xc4,0xca,0x90,0x9e,0x8c,0x82,0xa8,0xa6,0xb4,0xba,\n",
    "        0xdb,0xd5,0xc7,0xc9,0xe3,0xed,0xff,0xf1,0xab,0xa5,0xb7,0xb9,0x93,0x9d,0x8f,0x81,\n",
    "        0x3b,0x35,0x27,0x29,0x03,0x0d,0x1f,0x11,0x4b,0x45,0x57,0x59,0x73,0x7d,0x6f,0x61,\n",
    "        0xad,0xa3,0xb1,0xbf,0x95,0x9b,0x89,0x87,0xdd,0xd3,0xc1,0xcf,0xe5,0xeb,0xf9,0xf7,\n",
    "        0x4d,0x43,0x51,0x5f,0x75,0x7b,0x69,0x67,0x3d,0x33,0x21,0x2f,0x05,0x0b,0x19,0x17,\n",
    "        0x76,0x78,0x6a,0x64,0x4e,0x40,0x52,0x5c,0x06,0x08,0x1a,0x14,0x3e,0x30,0x22,0x2c,\n",
    "        0x96,0x98,0x8a,0x84,0xae,0xa0,0xb2,0xbc,0xe6,0xe8,0xfa,0xf4,0xde,0xd0,0xc2,0xcc,\n",
    "        0x41,0x4f,0x5d,0x53,0x79,0x77,0x65,0x6b,0x31,0x3f,0x2d,0x23,0x09,0x07,0x15,0x1b,\n",
    "        0xa1,0xaf,0xbd,0xb3,0x99,0x97,0x85,0x8b,0xd1,0xdf,0xcd,0xc3,0xe9,0xe7,0xf5,0xfb,\n",
    "        0x9a,0x94,0x86,0x88,0xa2,0xac,0xbe,0xb0,0xea,0xe4,0xf6,0xf8,0xd2,0xdc,0xce,0xc0,\n",
    "        0x7a,0x74,0x66,0x68,0x42,0x4c,0x5e,0x50,0x0a,0x04,0x16,0x18,0x32,0x3c,0x2e,0x20,\n",
    "        0xec,0xe2,0xf0,0xfe,0xd4,0xda,0xc8,0xc6,0x9c,0x92,0x80,0x8e,0xa4,0xaa,0xb8,0xb6,\n",
    "        0x0c,0x02,0x10,0x1e,0x34,0x3a,0x28,0x26,0x7c,0x72,0x60,0x6e,0x44,0x4a,0x58,0x56,\n",
    "        0x37,0x39,0x2b,0x25,0x0f,0x01,0x13,0x1d,0x47,0x49,0x5b,0x55,0x7f,0x71,0x63,0x6d,\n",
    "        0xd7,0xd9,0xcb,0xc5,0xef,0xe1,0xf3,0xfd,0xa7,0xa9,0xbb,0xb5,0x9f,0x91,0x83,0x8d]}"
   ]
  },
  {
   "cell_type": "code",
   "execution_count": 146,
   "metadata": {
    "collapsed": true
   },
   "outputs": [],
   "source": [
    "#multiply : Integer Hex -> Hex\n",
    "#Multiplies two bytes based on the tables defined in the cell above\n",
    "def multiply(b,a):\n",
    "    if b == 1:\n",
    "        return a\n",
    "    else:\n",
    "        return multiplication_table[b][a]\n",
    "    \n",
    "#mixColumn : [Fixed-matrix Integer] [Matrix Hex] -> [Matrix Hex]\n",
    "#Performs the mix column operation used in encryption/decryption\n",
    "def mixColumn(m1,m2):\n",
    "    newState = [[multiply(m1[i][0],m2[0][j])\n",
    "                ^ multiply(m1[i][1],m2[1][j])\n",
    "                ^ multiply(m1[i][2],m2[2][j])\n",
    "                ^ multiply(m1[i][3],m2[3][j]) for j in range (0, 4)] for i in range (0, 4)]\n",
    "    return newState\n",
    "\n",
    "            "
   ]
  },
  {
   "cell_type": "code",
   "execution_count": 147,
   "metadata": {
    "collapsed": true
   },
   "outputs": [],
   "source": [
    "#initRound : [Matrix Hex] [Matrix Hex] -> [Matrix Hex]\n",
    "#Performs the initial round of encryption\n",
    "def initRound(state,key0,key1):\n",
    "    xor = [bitwiseXOR(state[i],key0[i]) for i in range(0,4)]\n",
    "    substitute = [list(map(lookup, xor[i])) for i in range(0,4)]\n",
    "    shift = [shiftRow(substitute[i],i) for i in range(0,4)]\n",
    "    fixed_matrix = [[2,3,1,1],[1,2,3,1],[1,1,2,3],[3,1,1,2]]\n",
    "    mix_column = mixColumn(fixed_matrix,shift)\n",
    "    new_state = [bitwiseXOR(mix_column[i], key1[i]) for i in range(0,4)]\n",
    "    return new_state\n",
    "\n",
    "#initRound : [Matrix Hex] [Matrix Hex] Number -> [Matrix Hex]\n",
    "#Performs the _round_ iteration of the encryption process\n",
    "def addRoundKey(state,key,round):\n",
    "    substitute = list(map((lambda x: list(map(lookup, x))), state))\n",
    "    shift = [shiftRow(substitute[i],i) for i in range(0,4)]\n",
    "    fixed_matrix = [[2,3,1,1],[1,2,3,1],[1,1,2,3],[3,1,1,2]]\n",
    "    mix_column = mixColumn(fixed_matrix,shift)\n",
    "    if round == 10:\n",
    "        return [bitwiseXOR(shift[i],key[i]) for i in range(0,4)]\n",
    "    xor = [bitwiseXOR(mix_column[i],key[i]) for i in range(0,4)]\n",
    "    return xor"
   ]
  },
  {
   "cell_type": "code",
   "execution_count": 148,
   "metadata": {
    "collapsed": true
   },
   "outputs": [],
   "source": [
    "#arrayToString : {X} [List-of [Block X]] -> String\n",
    "#Converts a list of Blocks to a string\n",
    "def arrayToString(arr, f):\n",
    "    string = ''\n",
    "    for i in arr:\n",
    "        i = numpy.array(i).T\n",
    "        for k in i:\n",
    "            string += ''.join(list(map(f,k)))\n",
    "    return string\n"
   ]
  },
  {
   "cell_type": "code",
   "execution_count": 149,
   "metadata": {
    "collapsed": true
   },
   "outputs": [],
   "source": [
    "from functools import reduce\n",
    "def combineRows(blocks):\n",
    "    rows = numpy.array([combineColumns(blocks[i]) for i in range(0,len(blocks))])\n",
    "    return reduce((lambda a,b : numpy.concatenate((a,b))), rows)\n",
    "    \n",
    "def combineColumns(row):\n",
    "    return reduce((lambda a,b : numpy.concatenate((a,b), axis = 1)), row)\n",
    "def makeRGBArray(arr):\n",
    "    return numpy.array([arr[i].reshape(len(arr[i])//3, 3) for i in range(0, len(arr))])"
   ]
  },
  {
   "cell_type": "code",
   "execution_count": 190,
   "metadata": {
    "collapsed": true
   },
   "outputs": [],
   "source": [
    "def encryptBlock(block, roundKeys):\n",
    "    block = numpy.array(block).T\n",
    "    key0 = numpy.array(roundKeys[0]).T\n",
    "    key1 = numpy.array(roundKeys[1]).T\n",
    "    prevRound = initRound(block,key0,key1)\n",
    "    for k in range(2,11):\n",
    "        key = numpy.array(roundKeys[k]).T\n",
    "        prevRound = addRoundKey(prevRound,key, k)\n",
    "    return prevRound"
   ]
  },
  {
   "cell_type": "code",
   "execution_count": 198,
   "metadata": {},
   "outputs": [],
   "source": [
    "#encrypt : PlainText Key -> EncryptedMes\n",
    "from AESFuncs import encryptBlock as blockEncrypter\n",
    "from functools import partial\n",
    "from multiprocessing import Pool\n",
    "def encrypt(m,key):\n",
    "    messageType = type(m)\n",
    "    roundKeys = generateRoundKeys(key)\n",
    "    g = partial(blockEncrypter, roundKeys = roundKeys)\n",
    "    pool = Pool()\n",
    "    if messageType == str:\n",
    "        m = encoder(m)\n",
    "        encrypted = pool.map(g,m)\n",
    "        pool.close()\n",
    "        return arrayToString(encrypted,toHex)\n",
    "    else:\n",
    "        m,dim = encoder(m)\n",
    "        h,w = dim[0],dim[1]\n",
    "        encrypted = []\n",
    "        \n",
    "        encrypted = pool.map(g,m)\n",
    "        pool.close()\n",
    "        \n",
    "        encrypted = numpy.array([encrypted[i:i+w] for i in range(0, len(encrypted), w)])\n",
    "        encrypted = makeRGBArray(combineRows(encrypted))\n",
    "        return Image.fromarray(encrypted.astype(\"uint8\"), 'RGB')"
   ]
  },
  {
   "cell_type": "code",
   "execution_count": 199,
   "metadata": {
    "collapsed": true
   },
   "outputs": [],
   "source": [
    "def decryptBlock(block, roundKeys):\n",
    "    key = numpy.array(roundKeys[0]).T\n",
    "    prevRound = [bitwiseXOR(block[i],key[i]) for i in range(0,4)]\n",
    "    prevRound = [shiftRow(prevRound[i],i, inverse=True) for i in range(0,4)]\n",
    "    prevRound = [list(map(reverse_lookup, prevRound[i])) for i in range(0,4)]\n",
    "    for i in range(1,10):\n",
    "        key = numpy.array(roundKeys[i]).T\n",
    "        inv_xor = [bitwiseXOR(prevRound[i],key[i]) for i in range(0,4)]\n",
    "        fixed_matrix = [[14,11,13,9],[9,14,11,13],[13,9,14,11],[11,13,9,14]]\n",
    "        inv_mix_column = mixColumn(fixed_matrix,inv_xor)\n",
    "        inv_shift = [shiftRow(inv_mix_column[i],i, inverse=True) for i in range(0,4)]\n",
    "        prevRound = [list(map(reverse_lookup, inv_shift[i])) for i in range(0,4)]\n",
    "    key = numpy.array(roundKeys[10]).T\n",
    "    finalRound = [bitwiseXOR(prevRound[i],key[i]) for i in range(0,4)]\n",
    "    finalRound = numpy.array(finalRound)\n",
    "    return finalRound\n",
    "\n",
    "def transpose(arr):\n",
    "    arr = numpy.array(arr)\n",
    "    return arr.T"
   ]
  },
  {
   "cell_type": "code",
   "execution_count": 200,
   "metadata": {
    "code_folding": [],
    "collapsed": true
   },
   "outputs": [],
   "source": [
    "from AESFuncs import decryptBlock as blockDecrypter\n",
    "#decrypt : CipherText Key -> PlainText\n",
    "#Decrypts a message using AES Decryption\n",
    "def decrypt(c, key):\n",
    "    roundKeys = generateRoundKeys(key)\n",
    "    roundKeys.reverse()\n",
    "    g = partial(blockDecrypter, roundKeys = roundKeys)\n",
    "    pool = Pool()\n",
    "    if type(c) == str:\n",
    "        c = decoder(c)\n",
    "        decrypted = pool.map(g,c)\n",
    "        pool.close()\n",
    "        return arrayToString(decrypted, chr)\n",
    "    else:\n",
    "        c,dim = encoder(c)\n",
    "        h,w = dim[0],dim[1]\n",
    "        \n",
    "        decrypted = list(map(transpose, pool.map(g,c)))        \n",
    "        pool.close()\n",
    "        \n",
    "        decrypted = numpy.array([decrypted[i:i+w] for i in range(0, len(decrypted), w)])\n",
    "        decrypted = makeRGBArray(combineRows(decrypted))\n",
    "        return Image.fromarray(decrypted.astype(\"uint8\"), 'RGB')\n",
    "\n",
    "                "
   ]
  },
  {
   "cell_type": "code",
   "execution_count": 201,
   "metadata": {
    "scrolled": true
   },
   "outputs": [],
   "source": [
    "img = (Image.open(\"Unknown-1.jpeg\"))"
   ]
  },
  {
   "cell_type": "code",
   "execution_count": 207,
   "metadata": {
    "scrolled": true
   },
   "outputs": [
    {
     "name": "stdout",
     "output_type": "stream",
     "text": [
      "1.491137981414795\n"
     ]
    }
   ],
   "source": [
    "import time\n",
    "start = time.time()\n",
    "encrypted = encrypt(img,\"5468617473206D79204B756E6ff04675\")\n",
    "end = time.time()\n",
    "print(end - start)"
   ]
  },
  {
   "cell_type": "code",
   "execution_count": 208,
   "metadata": {
    "collapsed": true,
    "scrolled": true
   },
   "outputs": [],
   "source": [
    "encrypted.show()"
   ]
  },
  {
   "cell_type": "code",
   "execution_count": 211,
   "metadata": {
    "scrolled": true
   },
   "outputs": [
    {
     "name": "stdout",
     "output_type": "stream",
     "text": [
      "1.3685157299041748\n"
     ]
    }
   ],
   "source": [
    "start = time.time()\n",
    "decrypted = decrypt(encrypted,\"5468617473206D79204B756E6ff04675\")\n",
    "end = time.time()\n",
    "print(end - start)"
   ]
  },
  {
   "cell_type": "code",
   "execution_count": 212,
   "metadata": {
    "collapsed": true
   },
   "outputs": [],
   "source": [
    "decrypted.show()"
   ]
  },
  {
   "cell_type": "code",
   "execution_count": null,
   "metadata": {
    "collapsed": true
   },
   "outputs": [],
   "source": []
  }
 ],
 "metadata": {
  "kernelspec": {
   "display_name": "Python 3",
   "language": "python",
   "name": "python3"
  },
  "language_info": {
   "codemirror_mode": {
    "name": "ipython",
    "version": 3
   },
   "file_extension": ".py",
   "mimetype": "text/x-python",
   "name": "python",
   "nbconvert_exporter": "python",
   "pygments_lexer": "ipython3",
   "version": "3.8.2"
  }
 },
 "nbformat": 4,
 "nbformat_minor": 2
}
