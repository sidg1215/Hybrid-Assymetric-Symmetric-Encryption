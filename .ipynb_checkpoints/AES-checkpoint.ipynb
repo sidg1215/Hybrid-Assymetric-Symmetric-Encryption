{
 "cells": [
  {
   "cell_type": "code",
   "execution_count": 127,
   "metadata": {
    "collapsed": true
   },
   "outputs": [],
   "source": [
    "def stringToHex(m):\n",
    "    ascii_array = list(m)\n",
    "    return list(map((lambda x: (hex(x)[2:])),map(ord,m)))\n",
    "\n",
    "def encoder(m):\n",
    "    if len(m) % 16 != 0:\n",
    "        m += ' ' *(16 - (len(m) % 16))\n",
    "    rows = [stringToHex(m[(i - 4):i]) for i in range(4,len(m) + 1,4)]\n",
    "    blocks = [list(rows[(i - 4):i]) for i in range(4,len(rows) + 1,4)]\n",
    "    return blocks\n",
    "\n",
    "def decoder(m):\n",
    "    chunks = [m[i-32:i] for i in range(32,len(m)+1,32)]\n",
    "    decoded = [numpy.array(stringTo4x4(i)).T for i in chunks]\n",
    "    return decoded\n",
    "        "
   ]
  },
  {
   "cell_type": "code",
   "execution_count": 132,
   "metadata": {
    "scrolled": true
   },
   "outputs": [
    {
     "data": {
      "text/plain": [
       "[[['54', '77', '6f', '20'],\n",
       "  ['4f', '6e', '65', '20'],\n",
       "  ['4e', '69', '6e', '65'],\n",
       "  ['20', '54', '77', '6f']]]"
      ]
     },
     "execution_count": 132,
     "metadata": {},
     "output_type": "execute_result"
    }
   ],
   "source": [
    "encoder('Two One Nine Two')"
   ]
  },
  {
   "cell_type": "code",
   "execution_count": 133,
   "metadata": {
    "code_folding": [
     1
    ],
    "collapsed": true
   },
   "outputs": [],
   "source": [
    "#I found this look up table from: https://medium.com/wavy-engineering/building-aes-128-from-the-ground-up-with-python-8122af44ebf9\n",
    "aes_sbox = [\n",
    "    [int('63', 16), int('7c', 16), int('77', 16), int('7b', 16), int('f2', 16), int('6b', 16), int('6f', 16), int('c5', 16), int(\n",
    "        '30', 16), int('01', 16), int('67', 16), int('2b', 16), int('fe', 16), int('d7', 16), int('ab', 16), int('76', 16)],\n",
    "    [int('ca', 16), int('82', 16), int('c9', 16), int('7d', 16), int('fa', 16), int('59', 16), int('47', 16), int('f0', 16), int(\n",
    "        'ad', 16), int('d4', 16), int('a2', 16), int('af', 16), int('9c', 16), int('a4', 16), int('72', 16), int('c0', 16)],\n",
    "    [int('b7', 16), int('fd', 16), int('93', 16), int('26', 16), int('36', 16), int('3f', 16), int('f7', 16), int('cc', 16), int(\n",
    "        '34', 16), int('a5', 16), int('e5', 16), int('f1', 16), int('71', 16), int('d8', 16), int('31', 16), int('15', 16)],\n",
    "    [int('04', 16), int('c7', 16), int('23', 16), int('c3', 16), int('18', 16), int('96', 16), int('05', 16), int('9a', 16), int(\n",
    "        '07', 16), int('12', 16), int('80', 16), int('e2', 16), int('eb', 16), int('27', 16), int('b2', 16), int('75', 16)],\n",
    "    [int('09', 16), int('83', 16), int('2c', 16), int('1a', 16), int('1b', 16), int('6e', 16), int('5a', 16), int('a0', 16), int(\n",
    "        '52', 16), int('3b', 16), int('d6', 16), int('b3', 16), int('29', 16), int('e3', 16), int('2f', 16), int('84', 16)],\n",
    "    [int('53', 16), int('d1', 16), int('00', 16), int('ed', 16), int('20', 16), int('fc', 16), int('b1', 16), int('5b', 16), int(\n",
    "        '6a', 16), int('cb', 16), int('be', 16), int('39', 16), int('4a', 16), int('4c', 16), int('58', 16), int('cf', 16)],\n",
    "    [int('d0', 16), int('ef', 16), int('aa', 16), int('fb', 16), int('43', 16), int('4d', 16), int('33', 16), int('85', 16), int(\n",
    "        '45', 16), int('f9', 16), int('02', 16), int('7f', 16), int('50', 16), int('3c', 16), int('9f', 16), int('a8', 16)],\n",
    "    [int('51', 16), int('a3', 16), int('40', 16), int('8f', 16), int('92', 16), int('9d', 16), int('38', 16), int('f5', 16), int(\n",
    "        'bc', 16), int('b6', 16), int('da', 16), int('21', 16), int('10', 16), int('ff', 16), int('f3', 16), int('d2', 16)],\n",
    "    [int('cd', 16), int('0c', 16), int('13', 16), int('ec', 16), int('5f', 16), int('97', 16), int('44', 16), int('17', 16), int(\n",
    "        'c4', 16), int('a7', 16), int('7e', 16), int('3d', 16), int('64', 16), int('5d', 16), int('19', 16), int('73', 16)],\n",
    "    [int('60', 16), int('81', 16), int('4f', 16), int('dc', 16), int('22', 16), int('2a', 16), int('90', 16), int('88', 16), int(\n",
    "        '46', 16), int('ee', 16), int('b8', 16), int('14', 16), int('de', 16), int('5e', 16), int('0b', 16), int('db', 16)],\n",
    "    [int('e0', 16), int('32', 16), int('3a', 16), int('0a', 16), int('49', 16), int('06', 16), int('24', 16), int('5c', 16), int(\n",
    "        'c2', 16), int('d3', 16), int('ac', 16), int('62', 16), int('91', 16), int('95', 16), int('e4', 16), int('79', 16)],\n",
    "    [int('e7', 16), int('c8', 16), int('37', 16), int('6d', 16), int('8d', 16), int('d5', 16), int('4e', 16), int('a9', 16), int(\n",
    "        '6c', 16), int('56', 16), int('f4', 16), int('ea', 16), int('65', 16), int('7a', 16), int('ae', 16), int('08', 16)],\n",
    "    [int('ba', 16), int('78', 16), int('25', 16), int('2e', 16), int('1c', 16), int('a6', 16), int('b4', 16), int('c6', 16), int(\n",
    "        'e8', 16), int('dd', 16), int('74', 16), int('1f', 16), int('4b', 16), int('bd', 16), int('8b', 16), int('8a', 16)],\n",
    "    [int('70', 16), int('3e', 16), int('b5', 16), int('66', 16), int('48', 16), int('03', 16), int('f6', 16), int('0e', 16), int(\n",
    "        '61', 16), int('35', 16), int('57', 16), int('b9', 16), int('86', 16), int('c1', 16), int('1d', 16), int('9e', 16)],\n",
    "    [int('e1', 16), int('f8', 16), int('98', 16), int('11', 16), int('69', 16), int('d9', 16), int('8e', 16), int('94', 16), int(\n",
    "        '9b', 16), int('1e', 16), int('87', 16), int('e9', 16), int('ce', 16), int('55', 16), int('28', 16), int('df', 16)],\n",
    "    [int('8c', 16), int('a1', 16), int('89', 16), int('0d', 16), int('bf', 16), int('e6', 16), int('42', 16), int('68', 16), int(\n",
    "        '41', 16), int('99', 16), int('2d', 16), int('0f', 16), int('b0', 16), int('54', 16), int('bb', 16), int('16', 16)]\n",
    "]\n",
    "\n",
    "reverse_aes_sbox = [\n",
    "    [int('52', 16), int('09', 16), int('6a', 16), int('d5', 16), int('30', 16), int('36', 16), int('a5', 16), int('38', 16), int(\n",
    "        'bf', 16), int('40', 16), int('a3', 16), int('9e', 16), int('81', 16), int('f3', 16), int('d7', 16), int('fb', 16)],\n",
    "    [int('7c', 16), int('e3', 16), int('39', 16), int('82', 16), int('9b', 16), int('2f', 16), int('ff', 16), int('87', 16), int(\n",
    "        '34', 16), int('8e', 16), int('43', 16), int('44', 16), int('c4', 16), int('de', 16), int('e9', 16), int('cb', 16)],\n",
    "    [int('54', 16), int('7b', 16), int('94', 16), int('32', 16), int('a6', 16), int('c2', 16), int('23', 16), int('3d', 16), int(\n",
    "        'ee', 16), int('4c', 16), int('95', 16), int('0b', 16), int('42', 16), int('fa', 16), int('c3', 16), int('4e', 16)],\n",
    "    [int('08', 16), int('2e', 16), int('a1', 16), int('66', 16), int('28', 16), int('d9', 16), int('24', 16), int('b2', 16), int(\n",
    "        '76', 16), int('5b', 16), int('a2', 16), int('49', 16), int('6d', 16), int('8b', 16), int('d1', 16), int('25', 16)],\n",
    "    [int('72', 16), int('f8', 16), int('f6', 16), int('64', 16), int('86', 16), int('68', 16), int('98', 16), int('16', 16), int(\n",
    "        'd4', 16), int('a4', 16), int('5c', 16), int('cc', 16), int('5d', 16), int('65', 16), int('b6', 16), int('92', 16)],\n",
    "    [int('6c', 16), int('70', 16), int('48', 16), int('50', 16), int('fd', 16), int('ed', 16), int('b9', 16), int('da', 16), int(\n",
    "        '5e', 16), int('15', 16), int('46', 16), int('57', 16), int('a7', 16), int('8d', 16), int('9d', 16), int('84', 16)],\n",
    "    [int('90', 16), int('d8', 16), int('ab', 16), int('00', 16), int('8c', 16), int('bc', 16), int('d3', 16), int('0a', 16), int(\n",
    "        'f7', 16), int('e4', 16), int('58', 16), int('05', 16), int('b8', 16), int('b3', 16), int('45', 16), int('06', 16)],\n",
    "    [int('d0', 16), int('2c', 16), int('1e', 16), int('8f', 16), int('ca', 16), int('3f', 16), int('0f', 16), int('02', 16), int(\n",
    "        'c1', 16), int('af', 16), int('bd', 16), int('03', 16), int('01', 16), int('13', 16), int('8a', 16), int('6b', 16)],\n",
    "    [int('3a', 16), int('91', 16), int('11', 16), int('41', 16), int('4f', 16), int('67', 16), int('dc', 16), int('ea', 16), int(\n",
    "        '97', 16), int('f2', 16), int('cf', 16), int('ce', 16), int('f0', 16), int('b4', 16), int('e6', 16), int('73', 16)],\n",
    "    [int('96', 16), int('ac', 16), int('74', 16), int('22', 16), int('e7', 16), int('ad', 16), int('35', 16), int('85', 16), int(\n",
    "        'e2', 16), int('f9', 16), int('37', 16), int('e8', 16), int('1c', 16), int('75', 16), int('df', 16), int('6e', 16)],\n",
    "    [int('47', 16), int('f1', 16), int('1a', 16), int('71', 16), int('1d', 16), int('29', 16), int('c5', 16), int('89', 16), int(\n",
    "        '6f', 16), int('b7', 16), int('62', 16), int('0e', 16), int('aa', 16), int('18', 16), int('be', 16), int('1b', 16)],\n",
    "    [int('fc', 16), int('56', 16), int('3e', 16), int('4b', 16), int('c6', 16), int('d2', 16), int('79', 16), int('20', 16), int(\n",
    "        '9a', 16), int('db', 16), int('c0', 16), int('fe', 16), int('78', 16), int('cd', 16), int('5a', 16), int('f4', 16)],\n",
    "    [int('1f', 16), int('dd', 16), int('a8', 16), int('33', 16), int('88', 16), int('07', 16), int('c7', 16), int('31', 16), int(\n",
    "        'b1', 16), int('12', 16), int('10', 16), int('59', 16), int('27', 16), int('80', 16), int('ec', 16), int('5f', 16)],\n",
    "    [int('60', 16), int('51', 16), int('7f', 16), int('a9', 16), int('19', 16), int('b5', 16), int('4a', 16), int('0d', 16), int(\n",
    "        '2d', 16), int('e5', 16), int('7a', 16), int('9f', 16), int('93', 16), int('c9', 16), int('9c', 16), int('ef', 16)],\n",
    "    [int('a0', 16), int('e0', 16), int('3b', 16), int('4d', 16), int('ae', 16), int('2a', 16), int('f5', 16), int('b0', 16), int(\n",
    "        'c8', 16), int('eb', 16), int('bb', 16), int('3c', 16), int('83', 16), int('53', 16), int('99', 16), int('61', 16)],\n",
    "    [int('17', 16), int('2b', 16), int('04', 16), int('7e', 16), int('ba', 16), int('77', 16), int('d6', 16), int('26', 16), int(\n",
    "        'e1', 16), int('69', 16), int('14', 16), int('63', 16), int('55', 16), int('21', 16), int('0c', 16), int('7d', 16)]\n",
    "]\n",
    "\n",
    "\n",
    "def lookup(byte):\n",
    "    x = int(byte[0],16)\n",
    "    y = int(byte[1],16)\n",
    "    return aes_sbox[x][y]\n",
    "\n",
    "\n",
    "def reverse_lookup(byte):\n",
    "    x = byte >> 4\n",
    "    y = byte & 15\n",
    "    return reverse_aes_sbox[x][y]"
   ]
  },
  {
   "cell_type": "code",
   "execution_count": null,
   "metadata": {},
   "outputs": [],
   "source": []
  },
  {
   "cell_type": "code",
   "execution_count": 134,
   "metadata": {
    "collapsed": true
   },
   "outputs": [],
   "source": [
    "import random\n",
    "def generateKey(n = 128):\n",
    "    return hex(random.getrandbits(n))[2:]"
   ]
  },
  {
   "cell_type": "code",
   "execution_count": 135,
   "metadata": {},
   "outputs": [
    {
     "data": {
      "text/plain": [
       "'1f315b4d88f58fab0862cc0a853ca936'"
      ]
     },
     "execution_count": 135,
     "metadata": {},
     "output_type": "execute_result"
    }
   ],
   "source": [
    "generateKey()"
   ]
  },
  {
   "cell_type": "code",
   "execution_count": 136,
   "metadata": {},
   "outputs": [
    {
     "data": {
      "text/plain": [
       "[['50', '7b', 'b9', 'f8'],\n",
       " ['9b', '2b', 'aa', '22'],\n",
       " ['cc', '22', 'ad', '1b'],\n",
       " ['60', '9c', '46', '96']]"
      ]
     },
     "execution_count": 136,
     "metadata": {},
     "output_type": "execute_result"
    }
   ],
   "source": [
    "#NOTE: CREATE ABSTRACTION TO USE WITH PLAINTEXT\n",
    "\n",
    "def stringTo4x4(m):\n",
    "    rows = [m[(i - 2):i] for i in range(2,len(m) + 1,2)]\n",
    "    blocks = [list(rows[(i - 4):i]) for i in range(4,len(rows) + 1,4)]\n",
    "    return blocks\n",
    "stringTo4x4(generateKey())"
   ]
  },
  {
   "cell_type": "code",
   "execution_count": 137,
   "metadata": {
    "collapsed": true
   },
   "outputs": [],
   "source": [
    "def shiftRow(row, n, inverse = False):\n",
    "    temp = row[:]\n",
    "    for i in range(0,n):\n",
    "        if inverse:\n",
    "            shiftOnce(shiftOnce(shiftOnce(temp)))\n",
    "        else:\n",
    "            shiftOnce(temp)\n",
    "    return temp\n",
    "def shiftOnce(row):\n",
    "    for i in range(0,len(row)-1):\n",
    "        row[i],row[i-1] = row[i-1],row[i]\n",
    "    return row"
   ]
  },
  {
   "cell_type": "code",
   "execution_count": 138,
   "metadata": {
    "collapsed": true
   },
   "outputs": [],
   "source": [
    "rcons = {1 : 0x01,\n",
    "        2 : 0x02,\n",
    "        3 : 0x04,\n",
    "        4 : 0x08,\n",
    "        5 : 0x10,\n",
    "        6 : 0x20,\n",
    "        7 : 0x40,\n",
    "        8 : 0x80,\n",
    "        9 : 0x1B,\n",
    "        10 : 0x36}"
   ]
  },
  {
   "cell_type": "code",
   "execution_count": 139,
   "metadata": {},
   "outputs": [
    {
     "data": {
      "text/plain": [
       "16"
      ]
     },
     "execution_count": 139,
     "metadata": {},
     "output_type": "execute_result"
    }
   ],
   "source": [
    "0x10"
   ]
  },
  {
   "cell_type": "code",
   "execution_count": 167,
   "metadata": {
    "collapsed": true
   },
   "outputs": [],
   "source": [
    "import numpy\n",
    "def toHex(n):\n",
    "    hexString = hex(n)[2:]\n",
    "    if len(hexString) == 1:\n",
    "        return '0' + hexString\n",
    "    return hex(n)[2:]\n",
    "def bitwiseXOR(arr1, arr2):\n",
    "    xor = list(numpy.bitwise_xor(numpy.array(arr1),\n",
    "                                 numpy.array(arr2)))\n",
    "    hexArray = list(map(toHex, xor))\n",
    "    return hexArray\n",
    "#hexToInt: [List-of Hex] -> [List-of Int]\n",
    "def hexToInt(arr):\n",
    "    return list(map((lambda x : int(x, 16)),arr))\n",
    "def generateRoundKeys(s):\n",
    "    key0 = stringTo4x4(s)\n",
    "    roundKeys = [key0]\n",
    "    \n",
    "    for i in range(0, 10):\n",
    "        key = []\n",
    "        shifted = shiftRow(roundKeys[i][-1], 1)\n",
    "        substituted = list(map(lookup, shifted))\n",
    "        addRoundCons = list(numpy.bitwise_xor(numpy.array([rcons[i+1], 0, 0, 0]),\n",
    "                                numpy.array(substituted)))\n",
    "        key.append(bitwiseXOR(addRoundCons,hexToInt(roundKeys[i][0])))\n",
    "        key.append(bitwiseXOR(hexToInt(key[0]),hexToInt(roundKeys[i][1])))\n",
    "        key.append(bitwiseXOR(hexToInt(key[1]),hexToInt(roundKeys[i][2])))\n",
    "        key.append(bitwiseXOR(hexToInt(key[2]),hexToInt(roundKeys[i][3])))\n",
    "        roundKeys.append(key)\n",
    "        \n",
    "    return roundKeys\n",
    "        "
   ]
  },
  {
   "cell_type": "code",
   "execution_count": 168,
   "metadata": {
    "scrolled": true
   },
   "outputs": [
    {
     "data": {
      "text/plain": [
       "[[['54', '68', '61', '74'],\n",
       "  ['73', '20', '6D', '79'],\n",
       "  ['20', '4B', '75', '6E'],\n",
       "  ['67', '20', '46', '75']],\n",
       " [['e2', '32', 'fc', 'f1'],\n",
       "  ['91', '12', '91', '88'],\n",
       "  ['b1', '59', 'e4', 'e6'],\n",
       "  ['d6', '79', 'a2', '93']],\n",
       " [['56', '08', '20', '07'],\n",
       "  ['c7', '1a', 'b1', '8f'],\n",
       "  ['76', '43', '55', '69'],\n",
       "  ['a0', '3a', 'f7', 'fa']],\n",
       " [['d2', '60', '0d', 'e7'],\n",
       "  ['15', '7a', 'bc', '68'],\n",
       "  ['63', '39', 'e9', '01'],\n",
       "  ['c3', '03', '1e', 'fb']],\n",
       " [['a1', '12', '02', 'c9'],\n",
       "  ['b4', '68', 'be', 'a1'],\n",
       "  ['d7', '51', '57', 'a0'],\n",
       "  ['14', '52', '49', '5b']],\n",
       " [['b1', '29', '3b', '33'],\n",
       "  ['05', '41', '85', '92'],\n",
       "  ['d2', '10', 'd2', '32'],\n",
       "  ['c6', '42', '9b', '69']],\n",
       " [['bd', '3d', 'c2', '87'],\n",
       "  ['b8', '7c', '47', '15'],\n",
       "  ['6a', '6c', '95', '27'],\n",
       "  ['ac', '2e', '0e', '4e']],\n",
       " [['cc', '96', 'ed', '16'],\n",
       "  ['74', 'ea', 'aa', '03'],\n",
       "  ['1e', '86', '3f', '24'],\n",
       "  ['b2', 'a8', '31', '6a']],\n",
       " [['8e', '51', 'ef', '21'],\n",
       "  ['fa', 'bb', '45', '22'],\n",
       "  ['e4', '3d', '7a', '06'],\n",
       "  ['56', '95', '4b', '6c']],\n",
       " [['bf', 'e2', 'bf', '90'],\n",
       "  ['45', '59', 'fa', 'b2'],\n",
       "  ['a1', '64', '80', 'b4'],\n",
       "  ['f7', 'f1', 'cb', 'd8']],\n",
       " [['28', 'fd', 'de', 'f8'],\n",
       "  ['6d', 'a4', '24', '4a'],\n",
       "  ['cc', 'c0', 'a4', 'fe'],\n",
       "  ['3b', '31', '6f', '26']]]"
      ]
     },
     "execution_count": 168,
     "metadata": {},
     "output_type": "execute_result"
    }
   ],
   "source": [
    "generateRoundKeys(\"5468617473206D79204B756E67204675\")"
   ]
  },
  {
   "cell_type": "code",
   "execution_count": 169,
   "metadata": {},
   "outputs": [],
   "source": [
    "        multiplication_table = {2 : [0x00,0x02,0x04,0x06,0x08,0x0a,0x0c,0x0e,0x10,0x12,0x14,0x16,0x18,0x1a,0x1c,0x1e,\n",
    "        0x20,0x22,0x24,0x26,0x28,0x2a,0x2c,0x2e,0x30,0x32,0x34,0x36,0x38,0x3a,0x3c,0x3e,\n",
    "        0x40,0x42,0x44,0x46,0x48,0x4a,0x4c,0x4e,0x50,0x52,0x54,0x56,0x58,0x5a,0x5c,0x5e,\n",
    "        0x60,0x62,0x64,0x66,0x68,0x6a,0x6c,0x6e,0x70,0x72,0x74,0x76,0x78,0x7a,0x7c,0x7e,\n",
    "        0x80,0x82,0x84,0x86,0x88,0x8a,0x8c,0x8e,0x90,0x92,0x94,0x96,0x98,0x9a,0x9c,0x9e,\n",
    "        0xa0,0xa2,0xa4,0xa6,0xa8,0xaa,0xac,0xae,0xb0,0xb2,0xb4,0xb6,0xb8,0xba,0xbc,0xbe,\n",
    "        0xc0,0xc2,0xc4,0xc6,0xc8,0xca,0xcc,0xce,0xd0,0xd2,0xd4,0xd6,0xd8,0xda,0xdc,0xde,\n",
    "        0xe0,0xe2,0xe4,0xe6,0xe8,0xea,0xec,0xee,0xf0,0xf2,0xf4,0xf6,0xf8,0xfa,0xfc,0xfe,\n",
    "        0x1b,0x19,0x1f,0x1d,0x13,0x11,0x17,0x15,0x0b,0x09,0x0f,0x0d,0x03,0x01,0x07,0x05,\n",
    "        0x3b,0x39,0x3f,0x3d,0x33,0x31,0x37,0x35,0x2b,0x29,0x2f,0x2d,0x23,0x21,0x27,0x25,\n",
    "        0x5b,0x59,0x5f,0x5d,0x53,0x51,0x57,0x55,0x4b,0x49,0x4f,0x4d,0x43,0x41,0x47,0x45,\n",
    "        0x7b,0x79,0x7f,0x7d,0x73,0x71,0x77,0x75,0x6b,0x69,0x6f,0x6d,0x63,0x61,0x67,0x65,\n",
    "        0x9b,0x99,0x9f,0x9d,0x93,0x91,0x97,0x95,0x8b,0x89,0x8f,0x8d,0x83,0x81,0x87,0x85,\n",
    "        0xbb,0xb9,0xbf,0xbd,0xb3,0xb1,0xb7,0xb5,0xab,0xa9,0xaf,0xad,0xa3,0xa1,0xa7,0xa5,\n",
    "        0xdb,0xd9,0xdf,0xdd,0xd3,0xd1,0xd7,0xd5,0xcb,0xc9,0xcf,0xcd,0xc3,0xc1,0xc7,0xc5,\n",
    "        0xfb,0xf9,0xff,0xfd,0xf3,0xf1,0xf7,0xf5,0xeb,0xe9,0xef,0xed,0xe3,0xe1,0xe7,0xe5],\n",
    "\n",
    "        3 : [0x00,0x03,0x06,0x05,0x0c,0x0f,0x0a,0x09,0x18,0x1b,0x1e,0x1d,0x14,0x17,0x12,0x11,\n",
    "        0x30,0x33,0x36,0x35,0x3c,0x3f,0x3a,0x39,0x28,0x2b,0x2e,0x2d,0x24,0x27,0x22,0x21,\n",
    "        0x60,0x63,0x66,0x65,0x6c,0x6f,0x6a,0x69,0x78,0x7b,0x7e,0x7d,0x74,0x77,0x72,0x71,\n",
    "        0x50,0x53,0x56,0x55,0x5c,0x5f,0x5a,0x59,0x48,0x4b,0x4e,0x4d,0x44,0x47,0x42,0x41,\n",
    "        0xc0,0xc3,0xc6,0xc5,0xcc,0xcf,0xca,0xc9,0xd8,0xdb,0xde,0xdd,0xd4,0xd7,0xd2,0xd1,\n",
    "        0xf0,0xf3,0xf6,0xf5,0xfc,0xff,0xfa,0xf9,0xe8,0xeb,0xee,0xed,0xe4,0xe7,0xe2,0xe1,\n",
    "        0xa0,0xa3,0xa6,0xa5,0xac,0xaf,0xaa,0xa9,0xb8,0xbb,0xbe,0xbd,0xb4,0xb7,0xb2,0xb1,\n",
    "        0x90,0x93,0x96,0x95,0x9c,0x9f,0x9a,0x99,0x88,0x8b,0x8e,0x8d,0x84,0x87,0x82,0x81,\n",
    "        0x9b,0x98,0x9d,0x9e,0x97,0x94,0x91,0x92,0x83,0x80,0x85,0x86,0x8f,0x8c,0x89,0x8a,\n",
    "        0xab,0xa8,0xad,0xae,0xa7,0xa4,0xa1,0xa2,0xb3,0xb0,0xb5,0xb6,0xbf,0xbc,0xb9,0xba,\n",
    "        0xfb,0xf8,0xfd,0xfe,0xf7,0xf4,0xf1,0xf2,0xe3,0xe0,0xe5,0xe6,0xef,0xec,0xe9,0xea,\n",
    "        0xcb,0xc8,0xcd,0xce,0xc7,0xc4,0xc1,0xc2,0xd3,0xd0,0xd5,0xd6,0xdf,0xdc,0xd9,0xda,\n",
    "        0x5b,0x58,0x5d,0x5e,0x57,0x54,0x51,0x52,0x43,0x40,0x45,0x46,0x4f,0x4c,0x49,0x4a,\n",
    "        0x6b,0x68,0x6d,0x6e,0x67,0x64,0x61,0x62,0x73,0x70,0x75,0x76,0x7f,0x7c,0x79,0x7a,\n",
    "        0x3b,0x38,0x3d,0x3e,0x37,0x34,0x31,0x32,0x23,0x20,0x25,0x26,0x2f,0x2c,0x29,0x2a,\n",
    "        0x0b,0x08,0x0d,0x0e,0x07,0x04,0x01,0x02,0x13,0x10,0x15,0x16,0x1f,0x1c,0x19,0x1a],\n",
    "\n",
    "        9 : [0x00,0x09,0x12,0x1b,0x24,0x2d,0x36,0x3f,0x48,0x41,0x5a,0x53,0x6c,0x65,0x7e,0x77,\n",
    "        0x90,0x99,0x82,0x8b,0xb4,0xbd,0xa6,0xaf,0xd8,0xd1,0xca,0xc3,0xfc,0xf5,0xee,0xe7,\n",
    "        0x3b,0x32,0x29,0x20,0x1f,0x16,0x0d,0x04,0x73,0x7a,0x61,0x68,0x57,0x5e,0x45,0x4c,\n",
    "        0xab,0xa2,0xb9,0xb0,0x8f,0x86,0x9d,0x94,0xe3,0xea,0xf1,0xf8,0xc7,0xce,0xd5,0xdc,\n",
    "        0x76,0x7f,0x64,0x6d,0x52,0x5b,0x40,0x49,0x3e,0x37,0x2c,0x25,0x1a,0x13,0x08,0x01,\n",
    "        0xe6,0xef,0xf4,0xfd,0xc2,0xcb,0xd0,0xd9,0xae,0xa7,0xbc,0xb5,0x8a,0x83,0x98,0x91,\n",
    "        0x4d,0x44,0x5f,0x56,0x69,0x60,0x7b,0x72,0x05,0x0c,0x17,0x1e,0x21,0x28,0x33,0x3a,\n",
    "        0xdd,0xd4,0xcf,0xc6,0xf9,0xf0,0xeb,0xe2,0x95,0x9c,0x87,0x8e,0xb1,0xb8,0xa3,0xaa,\n",
    "        0xec,0xe5,0xfe,0xf7,0xc8,0xc1,0xda,0xd3,0xa4,0xad,0xb6,0xbf,0x80,0x89,0x92,0x9b,\n",
    "        0x7c,0x75,0x6e,0x67,0x58,0x51,0x4a,0x43,0x34,0x3d,0x26,0x2f,0x10,0x19,0x02,0x0b,\n",
    "        0xd7,0xde,0xc5,0xcc,0xf3,0xfa,0xe1,0xe8,0x9f,0x96,0x8d,0x84,0xbb,0xb2,0xa9,0xa0,\n",
    "        0x47,0x4e,0x55,0x5c,0x63,0x6a,0x71,0x78,0x0f,0x06,0x1d,0x14,0x2b,0x22,0x39,0x30,\n",
    "        0x9a,0x93,0x88,0x81,0xbe,0xb7,0xac,0xa5,0xd2,0xdb,0xc0,0xc9,0xf6,0xff,0xe4,0xed,\n",
    "        0x0a,0x03,0x18,0x11,0x2e,0x27,0x3c,0x35,0x42,0x4b,0x50,0x59,0x66,0x6f,0x74,0x7d,\n",
    "        0xa1,0xa8,0xb3,0xba,0x85,0x8c,0x97,0x9e,0xe9,0xe0,0xfb,0xf2,0xcd,0xc4,0xdf,0xd6,\n",
    "        0x31,0x38,0x23,0x2a,0x15,0x1c,0x07,0x0e,0x79,0x70,0x6b,0x62,0x5d,0x54,0x4f,0x46],\n",
    "\n",
    "        11 : [0x00,0x0b,0x16,0x1d,0x2c,0x27,0x3a,0x31,0x58,0x53,0x4e,0x45,0x74,0x7f,0x62,0x69,\n",
    "        0xb0,0xbb,0xa6,0xad,0x9c,0x97,0x8a,0x81,0xe8,0xe3,0xfe,0xf5,0xc4,0xcf,0xd2,0xd9,\n",
    "        0x7b,0x70,0x6d,0x66,0x57,0x5c,0x41,0x4a,0x23,0x28,0x35,0x3e,0x0f,0x04,0x19,0x12,\n",
    "        0xcb,0xc0,0xdd,0xd6,0xe7,0xec,0xf1,0xfa,0x93,0x98,0x85,0x8e,0xbf,0xb4,0xa9,0xa2,\n",
    "        0xf6,0xfd,0xe0,0xeb,0xda,0xd1,0xcc,0xc7,0xae,0xa5,0xb8,0xb3,0x82,0x89,0x94,0x9f,\n",
    "        0x46,0x4d,0x50,0x5b,0x6a,0x61,0x7c,0x77,0x1e,0x15,0x08,0x03,0x32,0x39,0x24,0x2f,\n",
    "        0x8d,0x86,0x9b,0x90,0xa1,0xaa,0xb7,0xbc,0xd5,0xde,0xc3,0xc8,0xf9,0xf2,0xef,0xe4,\n",
    "        0x3d,0x36,0x2b,0x20,0x11,0x1a,0x07,0x0c,0x65,0x6e,0x73,0x78,0x49,0x42,0x5f,0x54,\n",
    "        0xf7,0xfc,0xe1,0xea,0xdb,0xd0,0xcd,0xc6,0xaf,0xa4,0xb9,0xb2,0x83,0x88,0x95,0x9e,\n",
    "        0x47,0x4c,0x51,0x5a,0x6b,0x60,0x7d,0x76,0x1f,0x14,0x09,0x02,0x33,0x38,0x25,0x2e,\n",
    "        0x8c,0x87,0x9a,0x91,0xa0,0xab,0xb6,0xbd,0xd4,0xdf,0xc2,0xc9,0xf8,0xf3,0xee,0xe5,\n",
    "        0x3c,0x37,0x2a,0x21,0x10,0x1b,0x06,0x0d,0x64,0x6f,0x72,0x79,0x48,0x43,0x5e,0x55,\n",
    "        0x01,0x0a,0x17,0x1c,0x2d,0x26,0x3b,0x30,0x59,0x52,0x4f,0x44,0x75,0x7e,0x63,0x68,\n",
    "        0xb1,0xba,0xa7,0xac,0x9d,0x96,0x8b,0x80,0xe9,0xe2,0xff,0xf4,0xc5,0xce,0xd3,0xd8,\n",
    "        0x7a,0x71,0x6c,0x67,0x56,0x5d,0x40,0x4b,0x22,0x29,0x34,0x3f,0x0e,0x05,0x18,0x13,\n",
    "        0xca,0xc1,0xdc,0xd7,0xe6,0xed,0xf0,0xfb,0x92,0x99,0x84,0x8f,0xbe,0xb5,0xa8,0xa3],\n",
    "\n",
    "        13 : [0x00,0x0d,0x1a,0x17,0x34,0x39,0x2e,0x23,0x68,0x65,0x72,0x7f,0x5c,0x51,0x46,0x4b,\n",
    "        0xd0,0xdd,0xca,0xc7,0xe4,0xe9,0xfe,0xf3,0xb8,0xb5,0xa2,0xaf,0x8c,0x81,0x96,0x9b,\n",
    "        0xbb,0xb6,0xa1,0xac,0x8f,0x82,0x95,0x98,0xd3,0xde,0xc9,0xc4,0xe7,0xea,0xfd,0xf0,\n",
    "        0x6b,0x66,0x71,0x7c,0x5f,0x52,0x45,0x48,0x03,0x0e,0x19,0x14,0x37,0x3a,0x2d,0x20,\n",
    "        0x6d,0x60,0x77,0x7a,0x59,0x54,0x43,0x4e,0x05,0x08,0x1f,0x12,0x31,0x3c,0x2b,0x26,\n",
    "        0xbd,0xb0,0xa7,0xaa,0x89,0x84,0x93,0x9e,0xd5,0xd8,0xcf,0xc2,0xe1,0xec,0xfb,0xf6,\n",
    "        0xd6,0xdb,0xcc,0xc1,0xe2,0xef,0xf8,0xf5,0xbe,0xb3,0xa4,0xa9,0x8a,0x87,0x90,0x9d,\n",
    "        0x06,0x0b,0x1c,0x11,0x32,0x3f,0x28,0x25,0x6e,0x63,0x74,0x79,0x5a,0x57,0x40,0x4d,\n",
    "        0xda,0xd7,0xc0,0xcd,0xee,0xe3,0xf4,0xf9,0xb2,0xbf,0xa8,0xa5,0x86,0x8b,0x9c,0x91,\n",
    "        0x0a,0x07,0x10,0x1d,0x3e,0x33,0x24,0x29,0x62,0x6f,0x78,0x75,0x56,0x5b,0x4c,0x41,\n",
    "        0x61,0x6c,0x7b,0x76,0x55,0x58,0x4f,0x42,0x09,0x04,0x13,0x1e,0x3d,0x30,0x27,0x2a,\n",
    "        0xb1,0xbc,0xab,0xa6,0x85,0x88,0x9f,0x92,0xd9,0xd4,0xc3,0xce,0xed,0xe0,0xf7,0xfa,\n",
    "        0xb7,0xba,0xad,0xa0,0x83,0x8e,0x99,0x94,0xdf,0xd2,0xc5,0xc8,0xeb,0xe6,0xf1,0xfc,\n",
    "        0x67,0x6a,0x7d,0x70,0x53,0x5e,0x49,0x44,0x0f,0x02,0x15,0x18,0x3b,0x36,0x21,0x2c,\n",
    "        0x0c,0x01,0x16,0x1b,0x38,0x35,0x22,0x2f,0x64,0x69,0x7e,0x73,0x50,0x5d,0x4a,0x47,\n",
    "        0xdc,0xd1,0xc6,0xcb,0xe8,0xe5,0xf2,0xff,0xb4,0xb9,0xae,0xa3,0x80,0x8d,0x9a,0x97],\n",
    "\n",
    "        14 : [0x00,0x0e,0x1c,0x12,0x38,0x36,0x24,0x2a,0x70,0x7e,0x6c,0x62,0x48,0x46,0x54,0x5a,\n",
    "        0xe0,0xee,0xfc,0xf2,0xd8,0xd6,0xc4,0xca,0x90,0x9e,0x8c,0x82,0xa8,0xa6,0xb4,0xba,\n",
    "        0xdb,0xd5,0xc7,0xc9,0xe3,0xed,0xff,0xf1,0xab,0xa5,0xb7,0xb9,0x93,0x9d,0x8f,0x81,\n",
    "        0x3b,0x35,0x27,0x29,0x03,0x0d,0x1f,0x11,0x4b,0x45,0x57,0x59,0x73,0x7d,0x6f,0x61,\n",
    "        0xad,0xa3,0xb1,0xbf,0x95,0x9b,0x89,0x87,0xdd,0xd3,0xc1,0xcf,0xe5,0xeb,0xf9,0xf7,\n",
    "        0x4d,0x43,0x51,0x5f,0x75,0x7b,0x69,0x67,0x3d,0x33,0x21,0x2f,0x05,0x0b,0x19,0x17,\n",
    "        0x76,0x78,0x6a,0x64,0x4e,0x40,0x52,0x5c,0x06,0x08,0x1a,0x14,0x3e,0x30,0x22,0x2c,\n",
    "        0x96,0x98,0x8a,0x84,0xae,0xa0,0xb2,0xbc,0xe6,0xe8,0xfa,0xf4,0xde,0xd0,0xc2,0xcc,\n",
    "        0x41,0x4f,0x5d,0x53,0x79,0x77,0x65,0x6b,0x31,0x3f,0x2d,0x23,0x09,0x07,0x15,0x1b,\n",
    "        0xa1,0xaf,0xbd,0xb3,0x99,0x97,0x85,0x8b,0xd1,0xdf,0xcd,0xc3,0xe9,0xe7,0xf5,0xfb,\n",
    "        0x9a,0x94,0x86,0x88,0xa2,0xac,0xbe,0xb0,0xea,0xe4,0xf6,0xf8,0xd2,0xdc,0xce,0xc0,\n",
    "        0x7a,0x74,0x66,0x68,0x42,0x4c,0x5e,0x50,0x0a,0x04,0x16,0x18,0x32,0x3c,0x2e,0x20,\n",
    "        0xec,0xe2,0xf0,0xfe,0xd4,0xda,0xc8,0xc6,0x9c,0x92,0x80,0x8e,0xa4,0xaa,0xb8,0xb6,\n",
    "        0x0c,0x02,0x10,0x1e,0x34,0x3a,0x28,0x26,0x7c,0x72,0x60,0x6e,0x44,0x4a,0x58,0x56,\n",
    "        0x37,0x39,0x2b,0x25,0x0f,0x01,0x13,0x1d,0x47,0x49,0x5b,0x55,0x7f,0x71,0x63,0x6d,\n",
    "        0xd7,0xd9,0xcb,0xc5,0xef,0xe1,0xf3,0xfd,0xa7,0xa9,0xbb,0xb5,0x9f,0x91,0x83,0x8d]}"
   ]
  },
  {
   "cell_type": "code",
   "execution_count": 170,
   "metadata": {
    "collapsed": true
   },
   "outputs": [],
   "source": [
    "def leftShift(b):\n",
    "    b = '{0:08b}'.format(b << 1)\n",
    "    return int(b[len(b)-8:],2)\n",
    "\n",
    "#had trouble implementing multiply function, so found this one from stackOverflow: https://stackoverflow.com/questions/60924379/trouble-implementing-rijndael-mixcolums-in-python\n",
    "def multiply(b,a):\n",
    "    a = int(a,16)\n",
    "    if b == 1:\n",
    "        return a\n",
    "    else:\n",
    "        return multiplication_table[b][a]\n",
    "def mixColumn(m1,m2):\n",
    "    newState = []\n",
    "    for i in range(0,4):\n",
    "        currentColumn = []\n",
    "        for j in range(0,4):\n",
    "            currentColumn.append(toHex(multiply(m1[i][0],m2[0][j])\n",
    "                                 ^ multiply(m1[i][1],m2[1][j])\n",
    "                                 ^ multiply(m1[i][2],m2[2][j])\n",
    "                                 ^ multiply(m1[i][3],m2[3][j])))\n",
    "        newState.append(currentColumn)\n",
    "    return newState\n",
    "\n",
    "            "
   ]
  },
  {
   "cell_type": "code",
   "execution_count": 171,
   "metadata": {
    "collapsed": true
   },
   "outputs": [],
   "source": [
    "def initRound(state,key):\n",
    "    xor = [bitwiseXOR(hexToInt(state[i]),hexToInt(key[i])) for i in range(0,4)]\n",
    "    substitute = [list(map((lambda x: hex(lookup(x))[2:]), xor[i])) for i in range(0,4)]\n",
    "    shift = [shiftRow(substitute[i],i) for i in range(0,4)]\n",
    "    fixed_matrix = [[2,3,1,1],[1,2,3,1],[1,1,2,3],[3,1,1,2]]\n",
    "    mix_column = mixColumn(fixed_matrix,shift)\n",
    "    return mix_column\n",
    "\n",
    "def addRoundKey(state,key,round):\n",
    "    substitute = [list(map((lambda x: hex(lookup(x))[2:]), state[i])) for i in range(0,4)]\n",
    "    shift = [shiftRow(substitute[i],i) for i in range(0,4)]\n",
    "    fixed_matrix = [[2,3,1,1],[1,2,3,1],[1,1,2,3],[3,1,1,2]]\n",
    "    mix_column = mixColumn(fixed_matrix,shift)\n",
    "    if round == 10:\n",
    "        return [bitwiseXOR(hexToInt(shift[i]),hexToInt(key[i])) for i in range(0,4)]\n",
    "    xor = [bitwiseXOR(hexToInt(mix_column[i]),hexToInt(key[i])) for i in range(0,4)]\n",
    "    return xor"
   ]
  },
  {
   "cell_type": "code",
   "execution_count": 172,
   "metadata": {
    "collapsed": true
   },
   "outputs": [],
   "source": [
    "def arrayToString(arr):\n",
    "    string = ''\n",
    "    for i in arr:\n",
    "        i = numpy.array(i).T\n",
    "        for k in i:\n",
    "            string += ''.join(k)\n",
    "    return string\n"
   ]
  },
  {
   "cell_type": "code",
   "execution_count": 173,
   "metadata": {
    "collapsed": true
   },
   "outputs": [],
   "source": [
    "def encrypt(m,key):\n",
    "    roundKeys = generateRoundKeys(key)\n",
    "    m = encoder(m)\n",
    "    encrypted = []\n",
    "    for i in m:\n",
    "        i = numpy.array(i).T\n",
    "        key = numpy.array(roundKeys[0]).T\n",
    "        prevRound = initRound(i,key)\n",
    "        key = numpy.array(roundKeys[1]).T\n",
    "        prevRound = [bitwiseXOR(hexToInt(prevRound[i]),\n",
    "                                hexToInt(key[i])) for i in range(0,4)]\n",
    "        for k in range(2,11):\n",
    "            key = numpy.array(roundKeys[k]).T\n",
    "            prevRound = addRoundKey(prevRound,key, k)\n",
    "        encrypted.append(prevRound)\n",
    "    return arrayToString(encrypted)\n"
   ]
  },
  {
   "cell_type": "code",
   "execution_count": 177,
   "metadata": {
    "scrolled": true
   },
   "outputs": [
    {
     "data": {
      "text/plain": [
       "'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'"
      ]
     },
     "execution_count": 177,
     "metadata": {},
     "output_type": "execute_result"
    }
   ],
   "source": [
    "encrypt(\"Miusov, as a man man of breeding and deilcacy, could not but feel some inwrd qualms, when he reached the Father Superior's with Ivan: he felt ashamed of havin lost his temper. He felt that he ought to have disdaimed that despicable wretch, Fyodor Pavlovitch, too much to have been upset by him in Father Zossima's cell, and so to have forgotten himself. Teh monks were not to blame, in any case, he reflceted, on the steps. And if theyre decent people here (and the Father Superior, I understand, is a nobleman) why not be friendly and courteous withthem? I won't argue, I'll fall in with everything, I'll win them by politness, and show them that I've nothing to do with that Aesop, thta buffoon, that Pierrot, and have merely been takken in over this affair, just as they have.He determined to drop his litigation with the monastry, and relinguish his claims to the wood-cuting and fishery rihgts at once. He was the more ready to do this becuase the rights had becom much less valuable, and he had indeed the vaguest idea where the wood and river in quedtion were.These excellant intentions were strengthed when he enterd the Father Superiors diniing-room, though, stricttly speakin, it was not a dining-room, for the Father Superior had only two rooms alltogether; they were, however, much larger and more comfortable than Father Zossimas. But tehre was was no great luxury about the furnishng of these rooms eithar. The furniture was of mohogany, covered with \",\"5468617473206D79204B756E67204675\")"
   ]
  },
  {
   "cell_type": "code",
   "execution_count": 175,
   "metadata": {
    "collapsed": true
   },
   "outputs": [],
   "source": [
    "def decrypt(c, key):\n",
    "    roundKeys = generateRoundKeys(key)\n",
    "    roundKeys.reverse()\n",
    "    c = decoder(c)\n",
    "    decoded = ''\n",
    "    for e in c:\n",
    "        key = numpy.array(roundKeys[0]).T\n",
    "        prevRound = [bitwiseXOR(hexToInt(e[i]),hexToInt(key[i])) for i in range(0,4)]\n",
    "        prevRound = [shiftRow(prevRound[i],i, inverse=True) for i in range(0,4)]\n",
    "        prevRound = [list(map((lambda x: toHex(reverse_lookup(int(x,16)))), prevRound[i])) for i in range(0,4)]\n",
    "        for i in range(1,10):\n",
    "            key = numpy.array(roundKeys[i]).T\n",
    "            inv_xor = [bitwiseXOR(hexToInt(prevRound[i]),hexToInt(key[i])) for i in range(0,4)]\n",
    "            fixed_matrix = [[14,11,13,9],[9,14,11,13],[13,9,14,11],[11,13,9,14]]\n",
    "            inv_mix_column = mixColumn(fixed_matrix,inv_xor)\n",
    "            inv_shift = [shiftRow(inv_mix_column[i],i, inverse=True) for i in range(0,4)]\n",
    "            prevRound = [list(map((lambda x: toHex(reverse_lookup(int(x,16)))), inv_shift[i])) for i in range(0,4)]\n",
    "        key = numpy.array(roundKeys[10]).T\n",
    "        finalRound = [bitwiseXOR(hexToInt(prevRound[i]),hexToInt(key[i])) for i in range(0,4)]\n",
    "        finalRound = numpy.array(finalRound).T\n",
    "        finalRound = [list(map((lambda x: chr(int(x,16))),finalRound[i])) for i in range(0,4)]\n",
    "        decoded += arrayToString(finalRound)\n",
    "    return decoded"
   ]
  }
 ],
 "metadata": {
  "kernelspec": {
   "display_name": "Python 3",
   "language": "python",
   "name": "python3"
  },
  "language_info": {
   "codemirror_mode": {
    "name": "ipython",
    "version": 3
   },
   "file_extension": ".py",
   "mimetype": "text/x-python",
   "name": "python",
   "nbconvert_exporter": "python",
   "pygments_lexer": "ipython3",
   "version": "3.8.2"
  }
 },
 "nbformat": 4,
 "nbformat_minor": 2
}
