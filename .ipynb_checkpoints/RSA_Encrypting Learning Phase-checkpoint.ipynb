{
 "cells": [
  {
   "cell_type": "code",
   "execution_count": 4,
   "metadata": {
    "collapsed": true
   },
   "outputs": [],
   "source": [
    "#gcd: Integer Integer -> Integer\n",
    "#Returns the gcd of two integers, both of which are not 0\n",
    "\n",
    "def gcd(a,b):\n",
    "    if b == 0:\n",
    "        return a\n",
    "    else:\n",
    "        return gcd(b, a%b)\n"
   ]
  },
  {
   "cell_type": "code",
   "execution_count": 5,
   "metadata": {},
   "outputs": [
    {
     "data": {
      "text/plain": [
       "1"
      ]
     },
     "execution_count": 5,
     "metadata": {},
     "output_type": "execute_result"
    }
   ],
   "source": [
    "gcd(49831,825579)"
   ]
  },
  {
   "cell_type": "code",
   "execution_count": 6,
   "metadata": {
    "collapsed": true
   },
   "outputs": [],
   "source": [
    "#extended_euclid : Integer Integer -> (Integer, Integer)\n",
    "#returns integers x, y such that ax + by = gcd(a,b)\n",
    "#credit for theory: http://www.math.cmu.edu/~bkell/21110-2010s/extended-euclidean.html\n",
    "def extended_euclid(a,b):\n",
    "    return extended_euclid_helper(a,b,{a : (1,0), b : (0,1)})"
   ]
  },
  {
   "cell_type": "code",
   "execution_count": 7,
   "metadata": {
    "collapsed": true
   },
   "outputs": [],
   "source": [
    "def extended_euclid_helper(a,b,table):\n",
    "    if b == 0:\n",
    "        return table[a]\n",
    "    r = a%b\n",
    "    q = a//b\n",
    "    table[r] = (table[a][0] + -q*table[b][0],\n",
    "                table[a][1] + -q*table[b][1])\n",
    "    return extended_euclid_helper(b,r,table)"
   ]
  },
  {
   "cell_type": "code",
   "execution_count": 8,
   "metadata": {},
   "outputs": [
    {
     "data": {
      "text/plain": [
       "(-9, 1343)"
      ]
     },
     "execution_count": 8,
     "metadata": {},
     "output_type": "execute_result"
    }
   ],
   "source": [
    "extended_euclid(3432, 23)"
   ]
  },
  {
   "cell_type": "code",
   "execution_count": null,
   "metadata": {
    "collapsed": true
   },
   "outputs": [],
   "source": []
  },
  {
   "cell_type": "code",
   "execution_count": 9,
   "metadata": {},
   "outputs": [
    {
     "data": {
      "text/plain": [
       "'\\ndef euclidean_alg_checker(a,b):\\n    x,y = extended_euclid(a,b)\\n    return a*x + b*y == gcd(a,b)\\n\\nx = rand.randint(2,10000000000000000000)\\ny = rand.randint(2,10000000000000)\\ntest = euclidean_alg_checker(x,y)\\n'"
      ]
     },
     "execution_count": 9,
     "metadata": {},
     "output_type": "execute_result"
    }
   ],
   "source": [
    "\"\"\"\n",
    "def euclidean_alg_checker(a,b):\n",
    "    x,y = extended_euclid(a,b)\n",
    "    return a*x + b*y == gcd(a,b)\n",
    "\n",
    "x = rand.randint(2,10000000000000000000)\n",
    "y = rand.randint(2,10000000000000)\n",
    "test = euclidean_alg_checker(x,y)\n",
    "\"\"\""
   ]
  },
  {
   "cell_type": "code",
   "execution_count": 10,
   "metadata": {
    "collapsed": true
   },
   "outputs": [],
   "source": [
    "#inverse_mod: Integer Integer -> Integer\n",
    "#finds the multiplicative inverse of x mod n _a_ such that ax mod n = 1\n",
    "def inverse_mod(a,n):\n",
    "    return int(extended_euclid(a,n)[0])\n"
   ]
  },
  {
   "cell_type": "code",
   "execution_count": 11,
   "metadata": {
    "collapsed": true
   },
   "outputs": [],
   "source": [
    "#NEXT STEP: GENERATING PRIMES\n",
    "import math\n",
    "import random as rand\n",
    "#is_prime: Number -> Boolean\n",
    "#checks to see if a number is prime\n",
    "#SOURCE: https://medium.com/@prudywsh/how-to-generate-big-prime-numbers-miller-rabin-49e6e6af32fb\n",
    "def is_prime(n):\n",
    "    if n % 2 == 0:\n",
    "        return False\n",
    "    for i in range(3, int(math.sqrt(n))+1, 2):\n",
    "        if n % i == 0:\n",
    "            return False\n",
    "    return True\n",
    "\n",
    "#prime_generator: Number -> Number\n",
    "#generates a random prime in the range [2,_n_]\n",
    "#NOTE: This component was developed by me with the help of function above\n",
    "def prime_generator(n):\n",
    "    k = rand.randint(2,n+1)\n",
    "    while (not(is_prime(k))):\n",
    "        k = rand.randint(2,n+1)\n",
    "    return k"
   ]
  },
  {
   "cell_type": "code",
   "execution_count": 24,
   "metadata": {
    "collapsed": true
   },
   "outputs": [],
   "source": [
    "import hashlib\n",
    "#message_converter: String -> [List-of Number]\n",
    "#Converts a string of characters to chunks of ASCII representation\n",
    "def encoder(s):\n",
    "    ascii_array = list(map(ord,list(str(s))))\n",
    "    ascii_array.reverse()\n",
    "    return (sum([((256**i) * ascii_array[i]) for i in range(0, len(ascii_array))]))\n",
    "def decoder(n):\n",
    "    remainders = []\n",
    "    while n != 0:\n",
    "        remainders.append(n%256)\n",
    "        n = n//256\n",
    "    remainders.reverse()\n",
    "    return ''.join(map(chr, remainders))"
   ]
  },
  {
   "cell_type": "code",
   "execution_count": 53,
   "metadata": {
    "scrolled": true
   },
   "outputs": [
    {
     "data": {
      "text/plain": [
       "\"Miusov, as a man man of breeding and deilcacy, could not but feel some inwrd qualms, when he reached the Father Superior's with Ivan: he felt ashamed of havin lost his temper. He felt that he ought to have disdaimed that despicable wretch, Fyodor Pavlovitch, too much to have been upset by him in Father Zossima's cell, and so to have forgotten himself. Teh monks were not to blame, in any case, he reflceted, on the steps. And if theyre decent people here (and the Father Superior, I understand, is a nobleman) why not be friendly and courteous withthem? I won't argue, I'll fall in with everything, I'll win them by politness, and show them that I've nothing to do with that Aesop, thta buffoon, that Pierrot, and have merely been takken in over this affair, just as they have.He determined to drop his litigation with the monastry, and relinguish his claims to the wood-cuting and fishery rihgts at once. He was the more ready to do this becuase the rights had becom much less valuable, and he had indeed the vaguest idea where the wood and river in quedtion were.These excellant intentions were strengthed when he enterd the Father Superiors diniing-room, though, stricttly speakin, it was not a dining-room, for the Father Superior had only two rooms alltogether; they were, however, much larger and more comfortable than Father Zossimas. But tehre was was no great luxury about the furnishng of these rooms eithar. The furniture was of mohogany, covered with \""
      ]
     },
     "execution_count": 53,
     "metadata": {},
     "output_type": "execute_result"
    }
   ],
   "source": [
    "decoder(encoder(\"Miusov, as a man man of breeding and deilcacy, could not but feel some inwrd qualms, when he reached the Father Superior's with Ivan: he felt ashamed of havin lost his temper. He felt that he ought to have disdaimed that despicable wretch, Fyodor Pavlovitch, too much to have been upset by him in Father Zossima's cell, and so to have forgotten himself. Teh monks were not to blame, in any case, he reflceted, on the steps. And if theyre decent people here (and the Father Superior, I understand, is a nobleman) why not be friendly and courteous withthem? I won't argue, I'll fall in with everything, I'll win them by politness, and show them that I've nothing to do with that Aesop, thta buffoon, that Pierrot, and have merely been takken in over this affair, just as they have.He determined to drop his litigation with the monastry, and relinguish his claims to the wood-cuting and fishery rihgts at once. He was the more ready to do this becuase the rights had becom much less valuable, and he had indeed the vaguest idea where the wood and river in quedtion were.These excellant intentions were strengthed when he enterd the Father Superiors diniing-room, though, stricttly speakin, it was not a dining-room, for the Father Superior had only two rooms alltogether; they were, however, much larger and more comfortable than Father Zossimas. But tehre was was no great luxury about the furnishng of these rooms eithar. The furniture was of mohogany, covered with \"))"
   ]
  },
  {
   "cell_type": "code",
   "execution_count": 54,
   "metadata": {},
   "outputs": [
    {
     "data": {
      "text/plain": [
       "115792089237316195423570985008687907853269984665640564039457584007913129639936"
      ]
     },
     "execution_count": 54,
     "metadata": {},
     "output_type": "execute_result"
    }
   ],
   "source": [
    "2**256"
   ]
  },
  {
   "cell_type": "code",
   "execution_count": 56,
   "metadata": {},
   "outputs": [],
   "source": [
    "from random import randrange, getrandbits\n",
    "def is_prime(n, k=128):\n",
    "    \"\"\" Test if a number is prime\n",
    "        Args:\n",
    "            n -- int -- the number to test\n",
    "            k -- int -- the number of tests to do\n",
    "        return True if n is prime\n",
    "    \"\"\"\n",
    "    # Test if n is not even.\n",
    "    # But care, 2 is prime !\n",
    "    if n == 2 or n == 3:\n",
    "        return True\n",
    "    if n <= 1 or n % 2 == 0:\n",
    "        return False\n",
    "    # find r and s\n",
    "    s = 0\n",
    "    r = n - 1\n",
    "    while r & 1 == 0:\n",
    "        s += 1\n",
    "        r //= 2\n",
    "    # do k tests\n",
    "    for _ in range(k):\n",
    "        a = randrange(2, n - 1)\n",
    "        x = pow(a, r, n)\n",
    "        if x != 1 and x != n - 1:\n",
    "            j = 1\n",
    "            while j < s and x != n - 1:\n",
    "                x = pow(x, 2, n)\n",
    "                if x == 1:\n",
    "                    return False\n",
    "                j += 1\n",
    "            if x != n - 1:\n",
    "                return False\n",
    "    return True\n",
    "def generate_prime_candidate(length):\n",
    "    \"\"\" Generate an odd integer randomly\n",
    "        Args:\n",
    "            length -- int -- the length of the number to generate, in bits\n",
    "        return a integer\n",
    "    \"\"\"\n",
    "    # generate random bits\n",
    "    p = getrandbits(length)\n",
    "    # apply a mask to set MSB and LSB to 1\n",
    "    p |= (1 << length - 1) | 1\n",
    "    return p\n",
    "def generate_prime_number(length=1024):\n",
    "    \"\"\" Generate a prime\n",
    "        Args:\n",
    "            length -- int -- length of the prime to generate, in          bits\n",
    "        return a prime\n",
    "    \"\"\"\n",
    "    p = 4\n",
    "    # keep generating while the primality test fail\n",
    "    while not is_prime(p, 128):\n",
    "        p = generate_prime_candidate(length)\n",
    "    return p"
   ]
  },
  {
   "cell_type": "code",
   "execution_count": 57,
   "metadata": {
    "collapsed": true
   },
   "outputs": [],
   "source": [
    "#Generates random pair of public key and private key\n",
    "def key_generator():\n",
    "    p = generate_prime_number()\n",
    "    q = generate_prime_number()\n",
    "    n = p*q\n",
    "    \n",
    "    totient = (p-1)*(q-1)\n",
    "    e = 65537\n",
    "    private_key = int(inverse_mod(e,totient))\n",
    "    public_key = (n,e)\n",
    "    if private_key < 0:\n",
    "        private_key += totient\n",
    "    return (public_key, private_key)\n",
    "    "
   ]
  },
  {
   "cell_type": "code",
   "execution_count": 68,
   "metadata": {},
   "outputs": [
    {
     "ename": "ModuleNotFoundError",
     "evalue": "No module named 'aes'",
     "output_type": "error",
     "traceback": [
      "\u001b[0;31m---------------------------------------------------------------------------\u001b[0m",
      "\u001b[0;31mModuleNotFoundError\u001b[0m                       Traceback (most recent call last)",
      "\u001b[0;32m<ipython-input-68-df4783db5456>\u001b[0m in \u001b[0;36m<module>\u001b[0;34m\u001b[0m\n\u001b[0;32m----> 1\u001b[0;31m \u001b[0;32mimport\u001b[0m \u001b[0maes\u001b[0m\u001b[0;34m.\u001b[0m\u001b[0mipynb\u001b[0m\u001b[0;34m\u001b[0m\u001b[0;34m\u001b[0m\u001b[0m\n\u001b[0m\u001b[1;32m      2\u001b[0m \u001b[0msid_rsa_keys\u001b[0m \u001b[0;34m=\u001b[0m \u001b[0mkey_generator\u001b[0m\u001b[0;34m(\u001b[0m\u001b[0;34m)\u001b[0m\u001b[0;34m\u001b[0m\u001b[0;34m\u001b[0m\u001b[0m\n\u001b[1;32m      3\u001b[0m \u001b[0msid_aes_key\u001b[0m \u001b[0;34m=\u001b[0m \u001b[0maes\u001b[0m\u001b[0;34m.\u001b[0m\u001b[0mgenerateKey\u001b[0m\u001b[0;34m(\u001b[0m\u001b[0;34m)\u001b[0m\u001b[0;34m\u001b[0m\u001b[0;34m\u001b[0m\u001b[0m\n",
      "\u001b[0;31mModuleNotFoundError\u001b[0m: No module named 'aes'"
     ]
    }
   ],
   "source": [
    "import aes.ipynb\n",
    "sid_rsa_keys = key_generator()\n",
    "sid_aes_key = aes.generateKey()"
   ]
  },
  {
   "cell_type": "code",
   "execution_count": 59,
   "metadata": {},
   "outputs": [
    {
     "data": {
      "text/plain": [
       "((15192301303913938751895442956252091591583378509650370676294742137674470939294525418440537227825536183923696007962817949592755286079163415082653980155253226522975299190216785516247699988198520510957109217325925413961399068760943731312685797208805963802899148721332671891507473222429422864039821181700056923093268633603192514101801940625057994603413330484060512507617003415527892971628165619982899388620768471060891260507566362103231365613867462187226158630841175836446278028202348704873540168843887931783105288927520428637926442460008549242752363971206639663658155208353734536771801633194257245688285492464483683667887,\n",
       "  65537),\n",
       " 6503270225674071711333670395268263385725317007335268610903347665140601610250219205775833977591552742783395147891861006116776123345054708740540072924843584797527336366973491323570089803758507322800719318596541061740285479576720256316982580143977333544814878896322181015981058848925569205605583768427199855355774304499776428233505037418604493819590085351993969188356568223828969384823382933860510859943750939624808804087579223848112814696397645539102554249002830277564661466552863362668849030744189878097725613799879497542389872977605930097249065551368157284608920837201185186111959565927707536452732614321925777009185)"
      ]
     },
     "execution_count": 59,
     "metadata": {},
     "output_type": "execute_result"
    }
   ],
   "source": [
    "sid_keys"
   ]
  },
  {
   "cell_type": "code",
   "execution_count": 60,
   "metadata": {
    "collapsed": true
   },
   "outputs": [],
   "source": [
    "#rsa_encrypter: Number (Number, Number) -> Number\n",
    "#encrypts a number with a given public key\n",
    "def rsa_encrypter(m, key):\n",
    "    return (pow(encoder(m), key[1], key[0]))"
   ]
  },
  {
   "cell_type": "code",
   "execution_count": 61,
   "metadata": {
    "collapsed": true
   },
   "outputs": [],
   "source": [
    "#rsa_decrypter: Number ((Number, Number), Number) -> String\n",
    "#decrypts a message given a private key. Only decrypts message correctly if private key is the right one\n",
    "def rsa_decrypter(encrypted, keys):\n",
    "    return pow(encrypted, keys[1], keys[0][0])"
   ]
  },
  {
   "cell_type": "code",
   "execution_count": null,
   "metadata": {
    "collapsed": true
   },
   "outputs": [],
   "source": []
  }
 ],
 "metadata": {
  "kernelspec": {
   "display_name": "Python 3",
   "language": "python",
   "name": "python3"
  },
  "language_info": {
   "codemirror_mode": {
    "name": "ipython",
    "version": 3
   },
   "file_extension": ".py",
   "mimetype": "text/x-python",
   "name": "python",
   "nbconvert_exporter": "python",
   "pygments_lexer": "ipython3",
   "version": "3.8.2"
  }
 },
 "nbformat": 4,
 "nbformat_minor": 2
}
